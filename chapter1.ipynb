{
 "cells": [
  {
   "cell_type": "code",
   "execution_count": 1,
   "id": "initial_id",
   "metadata": {
    "ExecuteTime": {
     "end_time": "2024-01-10T03:30:23.259998Z",
     "start_time": "2024-01-10T03:30:23.253959Z"
    }
   },
   "outputs": [
    {
     "name": "stdout",
     "output_type": "stream",
     "text": [
      "3\n"
     ]
    }
   ],
   "source": [
    "# 復習\n",
    "print(1 + 2) # 和の計算結果を表示"
   ]
  },
  {
   "cell_type": "code",
   "execution_count": 2,
   "id": "f08836bb10c61d9c",
   "metadata": {
    "ExecuteTime": {
     "end_time": "2024-01-10T03:33:14.383016Z",
     "start_time": "2024-01-10T03:33:14.379231Z"
    },
    "collapsed": false,
    "jupyter": {
     "outputs_hidden": false
    }
   },
   "outputs": [
    {
     "name": "stdout",
     "output_type": "stream",
     "text": [
      "1 の階乗は 1\n",
      "2 の階乗は 2\n",
      "3 の階乗は 6\n",
      "4 の階乗は 24\n",
      "5 の階乗は 120\n",
      "6 の階乗は 720\n",
      "7 の階乗は 5040\n",
      "8 の階乗は 40320\n",
      "9 の階乗は 362880\n",
      "10 の階乗は 3628800\n"
     ]
    }
   ],
   "source": [
    "# 階乗の計算\n",
    "\n",
    "# nの定義\n",
    "n = 10\n",
    "\n",
    "# 階乗結果の保存\n",
    "fact = 1\n",
    "\n",
    "# 繰り返し処理で階乗を求める\n",
    "for i in range(1, n + 1):\n",
    "    # 階乗計算\n",
    "    fact *= i\n",
    "    # 結果表示\n",
    "    print(i, 'の階乗は', fact)"
   ]
  },
  {
   "cell_type": "code",
   "execution_count": 3,
   "id": "d2ccc0de17ac458f",
   "metadata": {
    "ExecuteTime": {
     "end_time": "2024-01-10T03:34:58.906681Z",
     "start_time": "2024-01-10T03:34:58.904519Z"
    },
    "collapsed": false,
    "jupyter": {
     "outputs_hidden": false
    }
   },
   "outputs": [
    {
     "name": "stdout",
     "output_type": "stream",
     "text": [
      "123\n",
      "133\n"
     ]
    }
   ],
   "source": [
    "# 変数xに値を代入\n",
    "x = 123\n",
    "\n",
    "# 変数xの中身を表示\n",
    "print(x)\n",
    "\n",
    "# 別の変数に結果を代入し，中身を表示する\n",
    "y = x + 10\n",
    "print(y)"
   ]
  },
  {
   "cell_type": "code",
   "execution_count": 4,
   "id": "558f49dd9b8c2317",
   "metadata": {
    "ExecuteTime": {
     "end_time": "2024-01-10T03:35:38.460084Z",
     "start_time": "2024-01-10T03:35:38.455478Z"
    },
    "collapsed": false,
    "jupyter": {
     "outputs_hidden": false
    }
   },
   "outputs": [
    {
     "name": "stdout",
     "output_type": "stream",
     "text": [
      "10\n",
      "11\n"
     ]
    }
   ],
   "source": [
    "# 変数の更新例\n",
    "w = 10\n",
    "print(w)\n",
    "w = w + 1 # 変数の更新（+1する）\n",
    "print(w)"
   ]
  },
  {
   "cell_type": "code",
   "execution_count": 5,
   "id": "71aac1c90c8aeb13",
   "metadata": {
    "ExecuteTime": {
     "end_time": "2024-01-10T03:39:31.961722Z",
     "start_time": "2024-01-10T03:39:31.956929Z"
    },
    "collapsed": false,
    "jupyter": {
     "outputs_hidden": false
    }
   },
   "outputs": [
    {
     "name": "stdout",
     "output_type": "stream",
     "text": [
      "123 10\n",
      "123\n",
      "10\n"
     ]
    }
   ],
   "source": [
    "# 変数を並列で表示\n",
    "x = 123\n",
    "y = 10\n",
    "print(x, y) # コンマ区切りで並列で変数の中身を表示する\n",
    "\n",
    "# 1行ずつ変数の中身を表示する\n",
    "print(x)\n",
    "print(y)"
   ]
  },
  {
   "cell_type": "code",
   "execution_count": 6,
   "id": "aa7ed480e6571862",
   "metadata": {
    "ExecuteTime": {
     "end_time": "2024-01-10T03:41:51.452837Z",
     "start_time": "2024-01-10T03:41:51.449954Z"
    },
    "collapsed": false,
    "jupyter": {
     "outputs_hidden": false
    }
   },
   "outputs": [
    {
     "name": "stdout",
     "output_type": "stream",
     "text": [
      "123\n",
      "<class 'int'>\n"
     ]
    }
   ],
   "source": [
    "# 変数の型を表示する\n",
    "\n",
    "a = 123\n",
    "print(a)\n",
    "\n",
    "# typeを使うことで，変数の型がわかる\n",
    "print(type(a))\n",
    "\n",
    "# intの場合，整数型である"
   ]
  },
  {
   "cell_type": "code",
   "execution_count": 7,
   "id": "dc859a37cc2b157d",
   "metadata": {
    "ExecuteTime": {
     "end_time": "2024-01-10T03:42:23.277252Z",
     "start_time": "2024-01-10T03:42:23.275100Z"
    },
    "collapsed": false,
    "jupyter": {
     "outputs_hidden": false
    }
   },
   "outputs": [
    {
     "name": "stdout",
     "output_type": "stream",
     "text": [
      "123.45\n",
      "<class 'float'>\n"
     ]
    }
   ],
   "source": [
    "# 変数の型を表示する\n",
    "\n",
    "b = 123.45\n",
    "print(b)\n",
    "\n",
    "# typeを使うことで，変数の型がわかる\n",
    "print(type(b))\n",
    "\n",
    "# floatの場合，小数型である"
   ]
  },
  {
   "cell_type": "code",
   "execution_count": 8,
   "id": "1b9b027b4012480",
   "metadata": {
    "ExecuteTime": {
     "end_time": "2024-01-10T03:47:57.264840Z",
     "start_time": "2024-01-10T03:47:57.259715Z"
    },
    "collapsed": false,
    "jupyter": {
     "outputs_hidden": false
    }
   },
   "outputs": [
    {
     "name": "stdout",
     "output_type": "stream",
     "text": [
      "xyz\n",
      "<class 'str'>\n"
     ]
    }
   ],
   "source": [
    "# 変数の型を表示する\n",
    "\n",
    "c = 'xyz'\n",
    "print(c)\n",
    "\n",
    "# typeを使うことで，変数の型がわかる\n",
    "print(type(c))\n",
    "\n",
    "# strの場合，文字列型である"
   ]
  },
  {
   "cell_type": "code",
   "execution_count": 9,
   "id": "5c05810740429960",
   "metadata": {
    "ExecuteTime": {
     "end_time": "2024-01-10T03:49:23.710330Z",
     "start_time": "2024-01-10T03:49:23.707063Z"
    },
    "collapsed": false,
    "jupyter": {
     "outputs_hidden": false
    }
   },
   "outputs": [
    {
     "name": "stdout",
     "output_type": "stream",
     "text": [
      "True\n",
      "<class 'bool'>\n"
     ]
    }
   ],
   "source": [
    "# 変数の型を表示する\n",
    "\n",
    "d = True\n",
    "print(d)\n",
    "\n",
    "# typeを使うことで，変数の型がわかる\n",
    "print(type(d))\n",
    "\n",
    "# boolの場合，ブール型（真偽値型）である"
   ]
  },
  {
   "cell_type": "code",
   "execution_count": 10,
   "id": "35276429fd2234f3",
   "metadata": {
    "ExecuteTime": {
     "end_time": "2024-01-10T03:50:34.845383Z",
     "start_time": "2024-01-10T03:50:34.841005Z"
    },
    "collapsed": false,
    "jupyter": {
     "outputs_hidden": false
    }
   },
   "outputs": [
    {
     "name": "stdout",
     "output_type": "stream",
     "text": [
      "120\n",
      "<class 'int'>\n"
     ]
    }
   ],
   "source": [
    "# 整数の加算\n",
    "i1 = 50\n",
    "i2 = 70\n",
    "\n",
    "# 加算\n",
    "i3 = i1 + i2\n",
    "\n",
    "# 結果表示\n",
    "print(i3)\n",
    "\n",
    "# 型確認\n",
    "print(type(i3))"
   ]
  },
  {
   "cell_type": "code",
   "execution_count": 11,
   "id": "de67593a9edf445c",
   "metadata": {
    "ExecuteTime": {
     "end_time": "2024-01-10T03:51:11.996682Z",
     "start_time": "2024-01-10T03:51:11.991487Z"
    },
    "collapsed": false,
    "jupyter": {
     "outputs_hidden": false
    }
   },
   "outputs": [
    {
     "name": "stdout",
     "output_type": "stream",
     "text": [
      "120.0\n",
      "<class 'float'>\n"
     ]
    }
   ],
   "source": [
    "# 小数の加算\n",
    "f1 = 50.0\n",
    "f2 = 70.0\n",
    "\n",
    "# 加算\n",
    "f3 = f1 + f2\n",
    "\n",
    "# 結果表示\n",
    "print(f3)\n",
    "\n",
    "# 型確認\n",
    "print(type(f3))"
   ]
  },
  {
   "cell_type": "code",
   "execution_count": 12,
   "id": "e9fc464a183b625c",
   "metadata": {
    "ExecuteTime": {
     "end_time": "2024-01-10T03:51:53.181720Z",
     "start_time": "2024-01-10T03:51:53.177685Z"
    },
    "collapsed": false,
    "jupyter": {
     "outputs_hidden": false
    }
   },
   "outputs": [
    {
     "name": "stdout",
     "output_type": "stream",
     "text": [
      "abc123\n",
      "<class 'str'>\n"
     ]
    }
   ],
   "source": [
    "# 文字列の加算\n",
    "s1 = 'abc'\n",
    "s2 = '123'\n",
    "\n",
    "# 加算\n",
    "s3 = s1 + s2\n",
    "\n",
    "# 結果表示\n",
    "print(s3)\n",
    "\n",
    "# 型確認\n",
    "print(type(s3))"
   ]
  },
  {
   "cell_type": "code",
   "execution_count": 13,
   "id": "6004728e48470eee",
   "metadata": {
    "ExecuteTime": {
     "end_time": "2024-01-10T03:52:35.540158Z",
     "start_time": "2024-01-10T03:52:35.536742Z"
    },
    "collapsed": false,
    "jupyter": {
     "outputs_hidden": false
    }
   },
   "outputs": [
    {
     "name": "stdout",
     "output_type": "stream",
     "text": [
      "-20\n",
      "<class 'int'>\n"
     ]
    }
   ],
   "source": [
    "# 整数の減算\n",
    "i1 = 50\n",
    "i2 = 70\n",
    "\n",
    "# 減算\n",
    "i3 = i1 - i2\n",
    "\n",
    "# 結果表示\n",
    "print(i3)\n",
    "\n",
    "# 型確認\n",
    "print(type(i3))"
   ]
  },
  {
   "cell_type": "code",
   "execution_count": 14,
   "id": "e825bdb28a581d0e",
   "metadata": {
    "ExecuteTime": {
     "end_time": "2024-01-10T03:52:53.825243Z",
     "start_time": "2024-01-10T03:52:53.820015Z"
    },
    "collapsed": false,
    "jupyter": {
     "outputs_hidden": false
    }
   },
   "outputs": [
    {
     "name": "stdout",
     "output_type": "stream",
     "text": [
      "111\n",
      "<class 'int'>\n"
     ]
    }
   ],
   "source": [
    "# 整数の乗算\n",
    "i1 = 37\n",
    "i2 = 3\n",
    "\n",
    "# 乗算\n",
    "i3 = i1 * i2\n",
    "\n",
    "# 結果表示\n",
    "print(i3)\n",
    "\n",
    "# 型確認\n",
    "print(type(i3))"
   ]
  },
  {
   "cell_type": "code",
   "execution_count": 15,
   "id": "e438be468a69e34c",
   "metadata": {
    "ExecuteTime": {
     "end_time": "2024-01-10T03:53:49.931254Z",
     "start_time": "2024-01-10T03:53:49.928176Z"
    },
    "collapsed": false,
    "jupyter": {
     "outputs_hidden": false
    }
   },
   "outputs": [
    {
     "name": "stdout",
     "output_type": "stream",
     "text": [
      "50.0\n",
      "<class 'float'>\n"
     ]
    }
   ],
   "source": [
    "# 整数の除算\n",
    "i1 = 100\n",
    "i2 = 2\n",
    "\n",
    "# 除算\n",
    "i3 = i1 / i2\n",
    "\n",
    "# 結果表示\n",
    "print(i3)\n",
    "\n",
    "# 型確認\n",
    "print(type(i3))\n",
    "\n",
    "# 整数同士の除算は小数になる"
   ]
  },
  {
   "cell_type": "code",
   "execution_count": 16,
   "id": "200f987b972fa3a5",
   "metadata": {
    "ExecuteTime": {
     "end_time": "2024-01-10T03:55:48.501212Z",
     "start_time": "2024-01-10T03:55:48.498294Z"
    },
    "collapsed": false,
    "jupyter": {
     "outputs_hidden": false
    }
   },
   "outputs": [
    {
     "name": "stdout",
     "output_type": "stream",
     "text": [
      "1\n",
      "3\n",
      "<class 'int'>\n",
      "<class 'int'>\n"
     ]
    }
   ],
   "source": [
    "# 整数の切り捨て除算と余り\n",
    "i1 = 10\n",
    "i2 = 7\n",
    "\n",
    "# 切り捨て除算\n",
    "i3 = i1 // i2\n",
    "\n",
    "# 余り\n",
    "i4 = i1 % i2\n",
    "\n",
    "# 結果表示\n",
    "print(i3)\n",
    "print(i4)\n",
    "\n",
    "# 型確認\n",
    "print(type(i3))\n",
    "print(type(i4))"
   ]
  },
  {
   "cell_type": "code",
   "execution_count": 17,
   "id": "9df271c15845752b",
   "metadata": {
    "ExecuteTime": {
     "end_time": "2024-01-10T03:56:18.035707Z",
     "start_time": "2024-01-10T03:56:18.028515Z"
    },
    "collapsed": false,
    "jupyter": {
     "outputs_hidden": false
    }
   },
   "outputs": [
    {
     "name": "stdout",
     "output_type": "stream",
     "text": [
      "1024\n",
      "<class 'int'>\n"
     ]
    }
   ],
   "source": [
    "# 整数の累乗\n",
    "i1 = 2\n",
    "i2 = 10\n",
    "\n",
    "# 切り捨て累乗\n",
    "i3 = i1 ** i2\n",
    "\n",
    "# 結果表示\n",
    "print(i3)\n",
    "\n",
    "# 型確認\n",
    "print(type(i3))"
   ]
  },
  {
   "cell_type": "code",
   "execution_count": 18,
   "id": "e38643ae1483f82b",
   "metadata": {
    "ExecuteTime": {
     "end_time": "2024-01-10T03:57:45.877722Z",
     "start_time": "2024-01-10T03:57:45.869276Z"
    },
    "collapsed": false,
    "jupyter": {
     "outputs_hidden": false
    }
   },
   "outputs": [
    {
     "name": "stdout",
     "output_type": "stream",
     "text": [
      "11\n"
     ]
    }
   ],
   "source": [
    "# 更新を行う複合演算子\n",
    "w = 10\n",
    "\n",
    "# 複合演算子の利用\n",
    "w += 1 # w = w + 1と同じ意味\n",
    "\n",
    "print(w)"
   ]
  },
  {
   "cell_type": "code",
   "execution_count": 19,
   "id": "8c14a02dc5741710",
   "metadata": {
    "ExecuteTime": {
     "end_time": "2024-01-10T04:40:29.813232Z",
     "start_time": "2024-01-10T04:40:29.806596Z"
    },
    "collapsed": false,
    "jupyter": {
     "outputs_hidden": false
    }
   },
   "outputs": [
    {
     "name": "stdout",
     "output_type": "stream",
     "text": [
      "True\n",
      "False\n"
     ]
    }
   ],
   "source": [
    "# 比較の例\n",
    "x = 1\n",
    "\n",
    "# xの中身は10より小さいかを代入\n",
    "c = x < 10 # 比較を使う\n",
    "\n",
    "# xの中身は10より大きいかを代入\n",
    "d = x > 10 # 比較を使う\n",
    "\n",
    "# 結果表示\n",
    "print(c) # True:  条件を満たす\n",
    "print(d) # False: 条件を満たしていない"
   ]
  },
  {
   "cell_type": "code",
   "execution_count": 20,
   "id": "c00a4a62e7be98e6",
   "metadata": {
    "ExecuteTime": {
     "end_time": "2024-01-10T04:40:39.229264Z",
     "start_time": "2024-01-10T04:40:39.222888Z"
    },
    "collapsed": false,
    "jupyter": {
     "outputs_hidden": false
    }
   },
   "outputs": [
    {
     "name": "stdout",
     "output_type": "stream",
     "text": [
      "False\n"
     ]
    }
   ],
   "source": [
    "# 比較の例\n",
    "x = 10\n",
    "\n",
    "# xの中身は10以上でかつ奇数\n",
    "c = (x >= 10) and (x % 2 == 1)\n",
    "\n",
    "# 結果表示\n",
    "print(c)"
   ]
  },
  {
   "cell_type": "code",
   "execution_count": 21,
   "id": "cfe1299258414426",
   "metadata": {
    "ExecuteTime": {
     "end_time": "2024-01-10T04:42:19.952533Z",
     "start_time": "2024-01-10T04:42:19.946555Z"
    },
    "collapsed": false,
    "jupyter": {
     "outputs_hidden": false
    }
   },
   "outputs": [
    {
     "name": "stdout",
     "output_type": "stream",
     "text": [
      "xは奇数\n",
      "x = 123\n"
     ]
    }
   ],
   "source": [
    "# ifによる条件分岐\n",
    "x = 123\n",
    "\n",
    "# xが奇数かどうか\n",
    "if x % 2 == 1:\n",
    "    print('xは奇数') # ifが満たしているときだけ実行\n",
    "\n",
    "# ifに関係なく実行\n",
    "print('x =', x)"
   ]
  },
  {
   "cell_type": "code",
   "execution_count": 22,
   "id": "22857be3aa81062d",
   "metadata": {
    "ExecuteTime": {
     "end_time": "2024-01-10T04:44:05.278767Z",
     "start_time": "2024-01-10T04:44:05.271854Z"
    },
    "collapsed": false,
    "jupyter": {
     "outputs_hidden": false
    }
   },
   "outputs": [
    {
     "name": "stdout",
     "output_type": "stream",
     "text": [
      "xは偶数\n",
      "x = 100\n"
     ]
    }
   ],
   "source": [
    "# if-elseによる条件分岐\n",
    "x = 100\n",
    "\n",
    "# xが奇数かどうか\n",
    "if x % 2 == 1:\n",
    "    # ifが満たしているときに実行\n",
    "    print('xは奇数')\n",
    "else:\n",
    "    # ifが満たしていないときに実行\n",
    "    print('xは偶数')\n",
    "\n",
    "# ifに関係なく実行\n",
    "print('x =', x)"
   ]
  },
  {
   "cell_type": "code",
   "execution_count": 23,
   "id": "3d4d5886674539e1",
   "metadata": {
    "ExecuteTime": {
     "end_time": "2024-01-10T05:35:43.773855Z",
     "start_time": "2024-01-10T05:35:43.767953Z"
    },
    "collapsed": false,
    "jupyter": {
     "outputs_hidden": false
    }
   },
   "outputs": [
    {
     "name": "stdout",
     "output_type": "stream",
     "text": [
      "xは3の倍数\n",
      "x = 123\n"
     ]
    }
   ],
   "source": [
    "# if-elif-elseによる条件分岐\n",
    "x = 123\n",
    "\n",
    "m = x % 3\n",
    "\n",
    "# xが3の倍数かどうか\n",
    "if m == 0:\n",
    "    # ifが満たしているときに実行\n",
    "    print('xは3の倍数')\n",
    "    print('x =', x)\n",
    "elif m == 1: # xを3で割った余りが1の場合の処理    \n",
    "    print('x+2は3の倍数')\n",
    "    print('x+2 =', x + 2)\n",
    "else: # xを3で割った余りが2の場合の処理(if, elifではないときに実行)\n",
    "    print('x+1は3の倍数')\n",
    "    print('x+1 =', x + 1)"
   ]
  },
  {
   "cell_type": "markdown",
   "id": "72325f21e76bceef",
   "metadata": {
    "collapsed": false,
    "jupyter": {
     "outputs_hidden": false
    }
   },
   "source": [
    "### 関数\n",
    "- 共通に使われる処理を事前に登録しておくことで，プログラミングを簡単にする方法の1つ\n",
    "    - print(), sum(), type(), len(), など \n",
    "        - print()をprint関数とよぶことが多い\n",
    "\n",
    "- 関数の括弧の中に書くものを『引数（ひきすう）』とよぶ\n",
    "    - 複数の引数を関数に書く場合，コンマ区切りで行う \n",
    "    - 引数がある場合，ない場合がある"
   ]
  },
  {
   "cell_type": "code",
   "execution_count": 24,
   "id": "fd095c881d9b22ea",
   "metadata": {
    "ExecuteTime": {
     "end_time": "2024-01-10T05:43:17.416067Z",
     "start_time": "2024-01-10T05:43:17.407528Z"
    },
    "collapsed": false,
    "jupyter": {
     "outputs_hidden": false
    }
   },
   "outputs": [
    {
     "name": "stdout",
     "output_type": "stream",
     "text": [
      "12 3.4\n",
      "12\n",
      "3.4\n"
     ]
    }
   ],
   "source": [
    "# print関数応用\n",
    "# print関数の引数に sep='\\n' を付けると，各値を改行して出力する\n",
    "\n",
    "x = 12\n",
    "y = 3.4\n",
    "\n",
    "print(x, y)\n",
    "print(x, y, sep='\\n')"
   ]
  },
  {
   "cell_type": "code",
   "execution_count": 25,
   "id": "ebdbd6fde3588eeb",
   "metadata": {
    "ExecuteTime": {
     "end_time": "2024-01-17T06:31:34.951816Z",
     "start_time": "2024-01-17T06:31:34.944673Z"
    },
    "collapsed": false,
    "jupyter": {
     "outputs_hidden": false
    }
   },
   "outputs": [
    {
     "name": "stdout",
     "output_type": "stream",
     "text": [
      "文字列の長さ: 8\n"
     ]
    }
   ],
   "source": [
    "# len関数\n",
    "\n",
    "xsl = '文字列のサンプル'\n",
    "\n",
    "l = len(xsl)\n",
    "\n",
    "print('文字列の長さ:', l)"
   ]
  },
  {
   "cell_type": "code",
   "execution_count": 26,
   "id": "a1d4f5eb8d9e3adc",
   "metadata": {
    "ExecuteTime": {
     "end_time": "2024-01-17T06:34:33.649168Z",
     "start_time": "2024-01-17T06:34:33.642843Z"
    },
    "collapsed": false,
    "jupyter": {
     "outputs_hidden": false
    }
   },
   "outputs": [
    {
     "name": "stdout",
     "output_type": "stream",
     "text": [
      "i2 = 10 , i3 = 123\n",
      "f2 = 12.0 , f3 = 123.0\n"
     ]
    }
   ],
   "source": [
    "# int関数とfloat関数\n",
    "i1 = 12\n",
    "f1 = 10.01\n",
    "s1 = '123'\n",
    "\n",
    "# int関数: 引数を整数型に変換する\n",
    "i2 = int(f1)\n",
    "i3 = int(s1)\n",
    "print('i2 =', i2, ', i3 =', i3)\n",
    "\n",
    "# float関数: 引数を小数型に変換する\n",
    "f2 = float(i1)\n",
    "f3 = float(s1)\n",
    "print('f2 =', f2, ', f3 =', f3)"
   ]
  },
  {
   "cell_type": "markdown",
   "id": "ae96c9ec1e8fe5e4",
   "metadata": {
    "collapsed": false,
    "jupyter": {
     "outputs_hidden": false
    }
   },
   "source": [
    "### メソッド\n",
    "- 変数名.メソッド名(引数) で特定の操作を行う\n",
    "    - 変数の型によって使用できるメソッドは決められている\n",
    "        - 引数がある場合，ない場合がある\n",
    "- 文字列変数.upper() : すべての文字を大文字にする"
   ]
  },
  {
   "cell_type": "code",
   "execution_count": 27,
   "id": "a6359d8e3a08c738",
   "metadata": {
    "ExecuteTime": {
     "end_time": "2024-01-17T06:39:25.488695Z",
     "start_time": "2024-01-17T06:39:25.480137Z"
    },
    "collapsed": false,
    "jupyter": {
     "outputs_hidden": false
    }
   },
   "outputs": [
    {
     "name": "stdout",
     "output_type": "stream",
     "text": [
      "s1: I like an apple\n",
      "s2: I LIKE AN APPLE\n"
     ]
    }
   ],
   "source": [
    "# upperメソッド\n",
    "s1 = 'I like an apple'\n",
    "\n",
    "s2 = s1.upper() # s1の文字列をすべて大文字にする\n",
    "\n",
    "print('s1:', s1)\n",
    "print('s2:', s2)"
   ]
  },
  {
   "cell_type": "code",
   "execution_count": 28,
   "id": "d1f284775e1689c6",
   "metadata": {
    "ExecuteTime": {
     "end_time": "2024-01-17T06:44:50.554220Z",
     "start_time": "2024-01-17T06:44:50.551391Z"
    },
    "collapsed": false,
    "jupyter": {
     "outputs_hidden": false
    }
   },
   "outputs": [
    {
     "name": "stdout",
     "output_type": "stream",
     "text": [
      "10\n",
      "-1\n"
     ]
    }
   ],
   "source": [
    "# findメソッド: 文字列が何文字目にあるかを調べる\n",
    "s1 = 'I like an apple'\n",
    "s2 = 'apple'\n",
    "s3 = 'pen'\n",
    "p1 = s1.find(s2) # s1の何文字目にappleがあるかを調べる\n",
    "p2 = s1.find(s3) # s1の何文字目にorangeがあるかを調べる\n",
    "\n",
    "# 先頭を0とした際の位置を示す\n",
    "print(p1)\n",
    "\n",
    "# 見つからなかった場合: -1\n",
    "print(p2)"
   ]
  },
  {
   "cell_type": "code",
   "execution_count": 29,
   "id": "1167b963e57a83b",
   "metadata": {
    "ExecuteTime": {
     "end_time": "2024-01-17T07:37:33.995162Z",
     "start_time": "2024-01-17T07:37:33.990797Z"
    },
    "collapsed": false,
    "jupyter": {
     "outputs_hidden": false
    }
   },
   "outputs": [
    {
     "name": "stdout",
     "output_type": "stream",
     "text": [
      "<class 'list'>\n",
      "[1, 3, 5, 7, 9]\n"
     ]
    }
   ],
   "source": [
    "# リスト\n",
    "l1 = [1, 3, 5, 7, 9]\n",
    "\n",
    "# リストのtype表示\n",
    "print(type(l1))\n",
    "\n",
    "# リストの中身表示\n",
    "print(l1)"
   ]
  },
  {
   "cell_type": "code",
   "execution_count": 30,
   "id": "7de7a38a4de439bd",
   "metadata": {
    "ExecuteTime": {
     "end_time": "2024-01-17T07:39:32.183258Z",
     "start_time": "2024-01-17T07:39:32.178853Z"
    },
    "collapsed": false,
    "jupyter": {
     "outputs_hidden": false
    }
   },
   "outputs": [
    {
     "name": "stdout",
     "output_type": "stream",
     "text": [
      "1\n",
      "5\n",
      "9\n",
      "9\n"
     ]
    }
   ],
   "source": [
    "# リストの参照\n",
    "l1 = [1, 3, 5, 7, 9]\n",
    "\n",
    "# 最初のインデックスは0\n",
    "print(l1[0])\n",
    "\n",
    "print(l1[2])\n",
    "\n",
    "print(l1[4])\n",
    "\n",
    "# 最後の要素はインデックス-1\n",
    "print(l1[-1])\n",
    "\n",
    "# 負の整数の場合，後ろから数えての意味になる"
   ]
  },
  {
   "cell_type": "code",
   "execution_count": 31,
   "id": "6a451ecddfddf5c6",
   "metadata": {
    "ExecuteTime": {
     "end_time": "2024-01-17T07:42:06.128943Z",
     "start_time": "2024-01-17T07:42:06.121906Z"
    },
    "collapsed": false,
    "jupyter": {
     "outputs_hidden": false
    }
   },
   "outputs": [
    {
     "name": "stdout",
     "output_type": "stream",
     "text": [
      "[3, 5, 7]\n",
      "[1, 3]\n",
      "[5, 7, 9]\n",
      "[1, 3, 5, 7]\n"
     ]
    }
   ],
   "source": [
    "# リストのスライス参照\n",
    "l1 = [1, 3, 5, 7, 9]\n",
    "\n",
    "# インデックス1以上4未満まで指定\n",
    "print(l1[1:4])\n",
    "\n",
    "# インデックス最初から2未満まで指定（最初からは省略可能）\n",
    "print(l1[:2])\n",
    "\n",
    "# インデックス2以上最後まで指定（最後までは省略可能）\n",
    "print(l1[2:])\n",
    "\n",
    "# インデックス最初から最後の手前まで指定\n",
    "print(l1[:-1])"
   ]
  },
  {
   "cell_type": "code",
   "execution_count": 32,
   "id": "31c61beeb7a02ef1",
   "metadata": {
    "ExecuteTime": {
     "end_time": "2024-01-17T07:44:32.943274Z",
     "start_time": "2024-01-17T07:44:32.931793Z"
    },
    "collapsed": false,
    "jupyter": {
     "outputs_hidden": false
    }
   },
   "outputs": [
    {
     "name": "stdout",
     "output_type": "stream",
     "text": [
      "要素数: 3\n"
     ]
    }
   ],
   "source": [
    "# len関数\n",
    "# 引数をリストにすると，リストの要素数を得ることができる\n",
    "\n",
    "l2 = ['First', 'Second', 'Third']\n",
    "n = len(l2)\n",
    "\n",
    "print('要素数:', n)"
   ]
  },
  {
   "cell_type": "code",
   "execution_count": 33,
   "id": "a83014d63b6ccc98",
   "metadata": {
    "ExecuteTime": {
     "end_time": "2024-01-17T07:49:13.631152Z",
     "start_time": "2024-01-17T07:49:13.624643Z"
    },
    "collapsed": false,
    "jupyter": {
     "outputs_hidden": false
    }
   },
   "outputs": [
    {
     "name": "stdout",
     "output_type": "stream",
     "text": [
      "[1, 3, 5, 7, 9, 'First', 'Second', 'Third']\n"
     ]
    }
   ],
   "source": [
    "# +演算子でリストの連結ができる\n",
    "l1 = [1, 3, 5, 7, 9]\n",
    "l2 = ['First', 'Second', 'Third']\n",
    "\n",
    "l3 = l1 + l2 # 連結\n",
    "\n",
    "print(l3)"
   ]
  },
  {
   "cell_type": "markdown",
   "id": "a538b701c9cc9f27",
   "metadata": {
    "collapsed": false,
    "jupyter": {
     "outputs_hidden": false
    }
   },
   "source": [
    "- 文字列は文字のリストとして扱うことができる"
   ]
  },
  {
   "cell_type": "code",
   "execution_count": 34,
   "id": "243328d7ec3a6500",
   "metadata": {
    "ExecuteTime": {
     "end_time": "2024-01-17T08:47:57.572245Z",
     "start_time": "2024-01-17T08:47:57.568938Z"
    },
    "collapsed": false,
    "jupyter": {
     "outputs_hidden": false
    }
   },
   "outputs": [
    {
     "name": "stdout",
     "output_type": "stream",
     "text": [
      "I\n",
      "a\n",
      "e\n",
      "apple\n"
     ]
    }
   ],
   "source": [
    "s1 = 'I like an apple'\n",
    "\n",
    "print(s1[0])     # 最初の文字はインデックス0\n",
    "print(s1[7])\n",
    "print(s1[-1])    # 最後の文字\n",
    "print(s1[10:15]) # スライス記法"
   ]
  },
  {
   "cell_type": "code",
   "execution_count": 35,
   "id": "cc6ef0970e614242",
   "metadata": {
    "ExecuteTime": {
     "end_time": "2024-01-17T08:52:23.039652Z",
     "start_time": "2024-01-17T08:52:23.031313Z"
    },
    "collapsed": false,
    "jupyter": {
     "outputs_hidden": false
    }
   },
   "outputs": [
    {
     "name": "stdout",
     "output_type": "stream",
     "text": [
      "['First', 'Second', 'Third']\n"
     ]
    }
   ],
   "source": [
    "# appendメソッド\n",
    "# リストの最後に引数を追加する\n",
    "\n",
    "l4 = [] # 空リスト（要素数0のリスト）\n",
    "\n",
    "l4.append('First')\n",
    "l4.append('Second')\n",
    "l4.append('Third')\n",
    "\n",
    "print(l4)"
   ]
  },
  {
   "cell_type": "code",
   "execution_count": 36,
   "id": "e5792e4771f1e690",
   "metadata": {
    "ExecuteTime": {
     "end_time": "2024-01-17T08:54:53.006095Z",
     "start_time": "2024-01-17T08:54:52.997428Z"
    },
    "collapsed": false,
    "jupyter": {
     "outputs_hidden": false
    }
   },
   "outputs": [
    {
     "name": "stdout",
     "output_type": "stream",
     "text": [
      "True\n",
      "False\n"
     ]
    }
   ],
   "source": [
    "# in演算子: リストの中に指定した値があるかどうかを調べる\n",
    "l2 = ['First', 'Second', 'Third']\n",
    "\n",
    "s4 = 'Second'\n",
    "s5 = 'Forth'\n",
    "\n",
    "c1 = s4 in l2 # l2にs4の値があるかどうか\n",
    "c2 = s5 in l2 # l2にs5の値があるかどうか\n",
    "\n",
    "print(c1) # Trueの場合:  要素がある\n",
    "print(c2) # Falseの場合: 要素がない"
   ]
  },
  {
   "cell_type": "code",
   "execution_count": 37,
   "id": "22b63c0c8e21c0cf",
   "metadata": {
    "ExecuteTime": {
     "end_time": "2024-01-17T08:55:36.845462Z",
     "start_time": "2024-01-17T08:55:36.837193Z"
    },
    "collapsed": false,
    "jupyter": {
     "outputs_hidden": false
    }
   },
   "outputs": [
    {
     "name": "stdout",
     "output_type": "stream",
     "text": [
      "First\n",
      "Second\n",
      "Third\n"
     ]
    }
   ],
   "source": [
    "# リストと繰り返し処理\n",
    "l2 = ['First', 'Second', 'Third']\n",
    "\n",
    "for e in l2:\n",
    "    print(e)"
   ]
  },
  {
   "cell_type": "code",
   "execution_count": 38,
   "id": "c5bd0f4bab1e6fb4",
   "metadata": {
    "ExecuteTime": {
     "end_time": "2024-01-17T08:56:40.219534Z",
     "start_time": "2024-01-17T08:56:40.213147Z"
    },
    "collapsed": false,
    "jupyter": {
     "outputs_hidden": false
    }
   },
   "outputs": [
    {
     "name": "stdout",
     "output_type": "stream",
     "text": [
      "First\n",
      "Second\n",
      "Third\n"
     ]
    }
   ],
   "source": [
    "l2 = ['First', 'Second', 'Third']\n",
    "\n",
    "# インデックスで1つずつ取り出す\n",
    "e = l2[0]\n",
    "print(e)\n",
    "\n",
    "e = l2[1]\n",
    "print(e)\n",
    "\n",
    "e = l2[2]\n",
    "print(e)"
   ]
  },
  {
   "cell_type": "code",
   "execution_count": 39,
   "id": "82270528de374ca1",
   "metadata": {
    "ExecuteTime": {
     "end_time": "2024-01-17T08:57:33.934812Z",
     "start_time": "2024-01-17T08:57:33.926963Z"
    },
    "collapsed": false,
    "jupyter": {
     "outputs_hidden": false
    }
   },
   "outputs": [
    {
     "name": "stdout",
     "output_type": "stream",
     "text": [
      "0 First\n",
      "1 Second\n",
      "2 Third\n"
     ]
    }
   ],
   "source": [
    "# リストと繰り返し処理\n",
    "l2 = ['First', 'Second', 'Third']\n",
    "\n",
    "for i in range(len(l2)):\n",
    "    print(i, l2[i])"
   ]
  },
  {
   "cell_type": "code",
   "execution_count": 40,
   "id": "e37273f50612ef80",
   "metadata": {
    "ExecuteTime": {
     "end_time": "2024-01-17T09:07:15.074195Z",
     "start_time": "2024-01-17T09:07:15.069983Z"
    },
    "collapsed": false,
    "jupyter": {
     "outputs_hidden": false
    }
   },
   "outputs": [
    {
     "name": "stdout",
     "output_type": "stream",
     "text": [
      "<class 'tuple'>\n",
      "(1, 3, 5, 7, 9)\n"
     ]
    }
   ],
   "source": [
    "# タプル: 一度定義したら，変更できないリスト\n",
    "t1 = (1, 3, 5, 7, 9)\n",
    "print(type(t1))\n",
    "print(t1)"
   ]
  },
  {
   "cell_type": "code",
   "execution_count": 41,
   "id": "b40af5d1319072e1",
   "metadata": {
    "ExecuteTime": {
     "end_time": "2024-01-17T09:06:07.181985Z",
     "start_time": "2024-01-17T09:06:07.175625Z"
    },
    "collapsed": false,
    "jupyter": {
     "outputs_hidden": false
    }
   },
   "outputs": [
    {
     "name": "stdout",
     "output_type": "stream",
     "text": [
      "<class 'tuple'>\n",
      "(1,)\n",
      "<class 'int'>\n",
      "1\n"
     ]
    }
   ],
   "source": [
    "# 1つの要素しかないタプル \n",
    "t2 = (1, )\n",
    "print(type(t2))\n",
    "print(t2)\n",
    "\n",
    "# この書き方は，タプルにならない\n",
    "t3 = (1)\n",
    "print(type(t3))\n",
    "print(t3)"
   ]
  },
  {
   "cell_type": "code",
   "execution_count": 42,
   "id": "b448d47497dd88c4",
   "metadata": {
    "ExecuteTime": {
     "end_time": "2024-01-17T09:06:56.071632Z",
     "start_time": "2024-01-17T09:06:56.062798Z"
    },
    "collapsed": false,
    "jupyter": {
     "outputs_hidden": false
    }
   },
   "outputs": [
    {
     "name": "stdout",
     "output_type": "stream",
     "text": [
      "3\n",
      "(3, 5)\n"
     ]
    }
   ],
   "source": [
    "# タプルの参照\n",
    "t1 = (1, 3, 5, 7, 9)\n",
    "\n",
    "# リストと同じように参照できる\n",
    "print(t1[1])\n",
    "print(t1[1:3])"
   ]
  },
  {
   "cell_type": "code",
   "execution_count": 43,
   "id": "7fb6452dd507310b",
   "metadata": {
    "ExecuteTime": {
     "end_time": "2024-01-17T09:08:08.952283Z",
     "start_time": "2024-01-17T09:08:08.934593Z"
    },
    "collapsed": false,
    "jupyter": {
     "outputs_hidden": false
    }
   },
   "outputs": [
    {
     "ename": "TypeError",
     "evalue": "'tuple' object does not support item assignment",
     "output_type": "error",
     "traceback": [
      "\u001b[0;31m---------------------------------------------------------------------------\u001b[0m",
      "\u001b[0;31mTypeError\u001b[0m                                 Traceback (most recent call last)",
      "Cell \u001b[0;32mIn[43], line 3\u001b[0m\n\u001b[1;32m      1\u001b[0m \u001b[38;5;66;03m# タプルの変更はエラーになる\u001b[39;00m\n\u001b[1;32m      2\u001b[0m t1 \u001b[38;5;241m=\u001b[39m (\u001b[38;5;241m1\u001b[39m, \u001b[38;5;241m3\u001b[39m, \u001b[38;5;241m5\u001b[39m, \u001b[38;5;241m7\u001b[39m, \u001b[38;5;241m9\u001b[39m)\n\u001b[0;32m----> 3\u001b[0m \u001b[43mt1\u001b[49m\u001b[43m[\u001b[49m\u001b[38;5;241;43m1\u001b[39;49m\u001b[43m]\u001b[49m \u001b[38;5;241m=\u001b[39m \u001b[38;5;241m4\u001b[39m\n",
      "\u001b[0;31mTypeError\u001b[0m: 'tuple' object does not support item assignment"
     ]
    }
   ],
   "source": [
    "# タプルの変更はエラーになる\n",
    "t1 = (1, 3, 5, 7, 9)\n",
    "t1[1] = 4"
   ]
  },
  {
   "cell_type": "code",
   "execution_count": 44,
   "id": "c8c4bb63843c2fb7",
   "metadata": {
    "ExecuteTime": {
     "end_time": "2024-01-17T09:08:46.229332Z",
     "start_time": "2024-01-17T09:08:46.219467Z"
    },
    "collapsed": false,
    "jupyter": {
     "outputs_hidden": false
    }
   },
   "outputs": [
    {
     "name": "stdout",
     "output_type": "stream",
     "text": [
      "[1, 4, 5, 7, 9]\n"
     ]
    }
   ],
   "source": [
    "# リストの変更は問題にならない\n",
    "l1 = [1, 3, 5, 7, 9]\n",
    "l1[1] = 4\n",
    "print(l1)"
   ]
  },
  {
   "cell_type": "code",
   "execution_count": 45,
   "id": "2aa73dc2da76b917",
   "metadata": {
    "ExecuteTime": {
     "end_time": "2024-01-17T09:09:52.164249Z",
     "start_time": "2024-01-17T09:09:52.146610Z"
    },
    "collapsed": false,
    "jupyter": {
     "outputs_hidden": false
    }
   },
   "outputs": [
    {
     "name": "stdout",
     "output_type": "stream",
     "text": [
      "x = 2\n",
      "y = 4\n"
     ]
    }
   ],
   "source": [
    "# 複数の変数に一括代入\n",
    "x, y = 2, 4 # 順番に代入する\n",
    "\n",
    "print('x =', x)\n",
    "print('y =', y)"
   ]
  },
  {
   "cell_type": "code",
   "execution_count": 46,
   "id": "53a113cbd6f4896",
   "metadata": {
    "ExecuteTime": {
     "end_time": "2024-01-17T09:12:41.294048Z",
     "start_time": "2024-01-17T09:12:41.284581Z"
    },
    "collapsed": false,
    "jupyter": {
     "outputs_hidden": false
    }
   },
   "outputs": [
    {
     "name": "stdout",
     "output_type": "stream",
     "text": [
      "key = T254 , value = 12\n",
      "key = A727 , value = 6\n",
      "key = T256 , value = 4\n",
      "key = T254 , value = 10\n",
      "key = A726 , value = 7\n",
      "key = A727 , value = 4\n"
     ]
    }
   ],
   "source": [
    "# 応用例\n",
    "# リストの中身がタプル\n",
    "data = [\n",
    "    ('T254', 12),\n",
    "    ('A727', 6),\n",
    "    ('T256', 4),\n",
    "    ('T254', 10),\n",
    "    ('A726', 7),\n",
    "    ('A727', 4)\n",
    "]\n",
    "\n",
    "# 一括代入を利用した，複数取り出し\n",
    "for key, value in data:\n",
    "    print('key =', key, ', value =', value)"
   ]
  },
  {
   "cell_type": "code",
   "execution_count": 47,
   "id": "8088e2e7531fb893",
   "metadata": {
    "ExecuteTime": {
     "end_time": "2024-01-17T09:13:42.477341Z",
     "start_time": "2024-01-17T09:13:42.472139Z"
    },
    "collapsed": false,
    "jupyter": {
     "outputs_hidden": false
    }
   },
   "outputs": [
    {
     "name": "stdout",
     "output_type": "stream",
     "text": [
      "{1, 2, 3, 4, 5, 9}\n"
     ]
    }
   ],
   "source": [
    "# セット（集合）\n",
    "s1 = {5, 2, 1, 2, 3, 9, 3, 4}\n",
    "\n",
    "print(s1) # セットは値の重複を認めない"
   ]
  },
  {
   "cell_type": "code",
   "execution_count": 48,
   "id": "1ee87d5fbc3e9008",
   "metadata": {
    "ExecuteTime": {
     "end_time": "2024-01-17T09:38:13.880629Z",
     "start_time": "2024-01-17T09:38:13.874560Z"
    },
    "collapsed": false,
    "jupyter": {
     "outputs_hidden": false
    }
   },
   "outputs": [
    {
     "name": "stdout",
     "output_type": "stream",
     "text": [
      "s2 = {1, 2, 3, 4, 5, 9}\n",
      "l6 = [1, 2, 3, 4, 5, 9]\n",
      "l7 = [1, 2, 3, 4, 5, 9]\n"
     ]
    }
   ],
   "source": [
    "# セット（集合）\n",
    "l5 = [5, 2, 1, 2, 3, 9, 3, 4]\n",
    "\n",
    "s2 = set(l5) # セット化したものを代入\n",
    "print('s2 =', s2)\n",
    "\n",
    "l6 = list(s2) # リスト化したものを代入\n",
    "print('l6 =', l6)\n",
    "\n",
    "l7 = list(set(l5)) # 2つの処理をまとめた書き方\n",
    "print('l7 =', l7)"
   ]
  },
  {
   "cell_type": "code",
   "execution_count": 49,
   "id": "2c75778d67cdc631",
   "metadata": {
    "ExecuteTime": {
     "end_time": "2024-01-17T09:42:07.750782Z",
     "start_time": "2024-01-17T09:42:07.739652Z"
    },
    "collapsed": false,
    "jupyter": {
     "outputs_hidden": false
    }
   },
   "outputs": [
    {
     "name": "stdout",
     "output_type": "stream",
     "text": [
      "<class 'dict'>\n",
      "{'T254': '男の子用食器セット', 'T256': '女の子用食器セット', 'A726': '目覚まし時計（緑）', 'A727': '目覚まし時計（赤）', 'A728': '目覚まし時計（ピンク）'}\n",
      "目覚まし時計（緑）\n"
     ]
    }
   ],
   "source": [
    "# 辞書\n",
    "d1 = {\n",
    "    'T254': '男の子用食器セット',\n",
    "    'T256': '女の子用食器セット',\n",
    "    'A726': '目覚まし時計（緑）',\n",
    "    'A727': '目覚まし時計（赤）',\n",
    "    'A728': '目覚まし時計（ピンク）'\n",
    "}\n",
    "\n",
    "print(type(d1))\n",
    "print(d1)\n",
    "\n",
    "print(d1['A726'])"
   ]
  },
  {
   "cell_type": "code",
   "execution_count": 50,
   "id": "68f96cdaaf3bcf6e",
   "metadata": {
    "ExecuteTime": {
     "end_time": "2024-01-17T09:44:01.864155Z",
     "start_time": "2024-01-17T09:44:01.853352Z"
    },
    "collapsed": false,
    "jupyter": {
     "outputs_hidden": false
    }
   },
   "outputs": [
    {
     "name": "stdout",
     "output_type": "stream",
     "text": [
      "{'T254': '男の子用食器セット', 'T256': '女の子用食器セット', 'A726': '目覚まし時計（青）', 'A727': '目覚まし時計（赤）', 'T257': '大人用食器セット'}\n"
     ]
    }
   ],
   "source": [
    "# 辞書\n",
    "d1 = {\n",
    "    'T254': '男の子用食器セット',\n",
    "    'T256': '女の子用食器セット',\n",
    "    'A726': '目覚まし時計（緑）',\n",
    "    'A727': '目覚まし時計（赤）',\n",
    "    'A728': '目覚まし時計（ピンク）'\n",
    "}\n",
    "\n",
    "# 辞書の追加\n",
    "d1['T257'] = '大人用食器セット'\n",
    "\n",
    "# 辞書の修正\n",
    "d1['A726'] = '目覚まし時計（青）'\n",
    "\n",
    "# 辞書の削除\n",
    "del d1['A728']\n",
    "\n",
    "print(d1)"
   ]
  },
  {
   "cell_type": "code",
   "execution_count": 51,
   "id": "ef80a782352f4ea",
   "metadata": {
    "ExecuteTime": {
     "end_time": "2024-01-17T09:46:28.075596Z",
     "start_time": "2024-01-17T09:46:28.066771Z"
    },
    "collapsed": false,
    "jupyter": {
     "outputs_hidden": false
    }
   },
   "outputs": [
    {
     "name": "stdout",
     "output_type": "stream",
     "text": [
      "dict_keys(['T254', 'T256', 'A726', 'A727', 'A728'])\n"
     ]
    }
   ],
   "source": [
    "# 辞書とkeyメソッド\n",
    "d1 = {\n",
    "    'T254': '男の子用食器セット',\n",
    "    'T256': '女の子用食器セット',\n",
    "    'A726': '目覚まし時計（緑）',\n",
    "    'A727': '目覚まし時計（赤）',\n",
    "    'A728': '目覚まし時計（ピンク）'\n",
    "}\n",
    "\n",
    "# keyメソッド\n",
    "print(d1.keys())"
   ]
  },
  {
   "cell_type": "code",
   "execution_count": 52,
   "id": "3fc6e31cd89d84a5",
   "metadata": {
    "ExecuteTime": {
     "end_time": "2024-01-17T09:47:51.648490Z",
     "start_time": "2024-01-17T09:47:51.641533Z"
    },
    "collapsed": false,
    "jupyter": {
     "outputs_hidden": false
    }
   },
   "outputs": [
    {
     "name": "stdout",
     "output_type": "stream",
     "text": [
      "True\n",
      "False\n"
     ]
    }
   ],
   "source": [
    "# 辞書とkeyメソッド\n",
    "d1 = {\n",
    "    'T254': '男の子用食器セット',\n",
    "    'T256': '女の子用食器セット',\n",
    "    'A726': '目覚まし時計（緑）',\n",
    "    'A727': '目覚まし時計（赤）',\n",
    "    'A728': '目覚まし時計（ピンク）'\n",
    "}\n",
    "\n",
    "# keyメソッドとinの組み合わせ\n",
    "k1 = 'T256'\n",
    "c1 = k1 in d1.keys() # k1はd1のキーにあるかどうか\n",
    "print(c1)\n",
    "\n",
    "k2 = 'T257'\n",
    "c2 = k2 in d1.keys() # k2はd1のキーにあるかどうか\n",
    "print(c2)"
   ]
  },
  {
   "cell_type": "markdown",
   "id": "470130fa16c1def6",
   "metadata": {
    "collapsed": false,
    "jupyter": {
     "outputs_hidden": false
    }
   },
   "source": [
    "### 自作の関数を定義する\n",
    "- 関数: ひとまとまりの処理を行うプログラムに名前を付けたもの\n",
    "    - プログラムを見やすくする\n",
    "    - 処理Aを関数化することで，変数を渡すことで，異なる変数に対して，同じ処理Aを行うことができる\n",
    "\n",
    "\n",
    "### 関数のメリット\n",
    "- 同じ処理を何回も書く必要が無くなる\n",
    "    - 1つの処理を定義すれば，その関数を実行することで，同じ処理を行うことができる\n",
    "    - プログラムが見やすくする\n",
    "- 同じ処理を別のプログラムで再利用できる\n",
    "    - 関数を上手く作成することで，別のプログラムでそのまま使用できる\n",
    "\n",
    "### 自作関数の定義\n",
    "- Pythonではdefを使用して関数を定義できる\n",
    "- 一般的には以下のように関数を定義する\n",
    "```python\n",
    "def 関数名(引数群):\n",
    "    関数で⾏う処理\n",
    "```\n",
    "- 関数名は変数と同様に名前をつけることができる\n",
    "- defに続くコードブロックに書かれているプログラムが関数で実行される処理となる\n",
    "- 引数(ひきすう): 関数を実行させる条件\n",
    "    - 関数内部でその引数を使用することができる\n",
    "    - 値を引数に設定することを『引数を渡す』とよぶ\n",
    "    - 引数がない関数もある\n",
    "- 戻り値: 関数を実行した後に，結果として呼び出し元に戻る値\n",
    "    - 戻り値がない関数もある\n",
    "\n",
    "- 引数群: 引数の個数を規定\n",
    "    - 引数が複数ある場合，コンマで区切る\n",
    "- 戻り値がある場合: return文を使用して値を返す\n",
    "    - return 定数 や return 式\n",
    "    - return文は関数中に多数存在しても問題ない\n",
    "- 戻り値がない場合，以下の1文を書く（ただし省略可能）\n",
    "    - return\n",
    "\n",
    "### 関数の使用\n",
    "- 関数を使用する（呼び出す）場合，関数名()と書く\n",
    "    - プログラムの実行が関数の呼び出しに到達すると，その関数の先頭行に移動して，関数の中身のプログラムを実行する\n",
    "    - 関数の末尾まで実行すると，関数を呼び出したところに戻り，続きのプログラムを実行する\n",
    "\n",
    "### 引数あり関数の例\n",
    "- defを使用して関数を作成する際に，丸カッコ内に引数群を書くことで，引数あり関数を作成できる"
   ]
  },
  {
   "cell_type": "code",
   "execution_count": 54,
   "id": "f3a7fb1d254f7c65",
   "metadata": {
    "ExecuteTime": {
     "end_time": "2024-01-17T11:13:20.144469Z",
     "start_time": "2024-01-17T11:13:11.802407Z"
    },
    "collapsed": false,
    "jupyter": {
     "outputs_hidden": false
    }
   },
   "outputs": [
    {
     "name": "stdin",
     "output_type": "stream",
     "text": [
      " Sapporo\n"
     ]
    },
    {
     "name": "stdout",
     "output_type": "stream",
     "text": [
      "Hello, Sapporo\n"
     ]
    }
   ],
   "source": [
    "# printHello関数の定義\n",
    "def printHello(name):\n",
    "    print('Hello, ' + name)\n",
    "# printHello関数ここまで\n",
    "\n",
    "# ここからプログラムがスタート\n",
    "n = input() # ⽂字列を⼊⼒\n",
    "printHello(n) # 関数の呼び出し\n",
    "# nの値がprintHello関数のnameに代⼊される"
   ]
  },
  {
   "cell_type": "markdown",
   "id": "a61e163f2f75511d",
   "metadata": {
    "collapsed": false,
    "jupyter": {
     "outputs_hidden": false
    }
   },
   "source": [
    "### 戻り値あり関数の例\n",
    "- 関数呼び出しによって得られた値をプログラムで使用したい場合，return文を使用する"
   ]
  },
  {
   "cell_type": "code",
   "execution_count": 55,
   "id": "e963e7c9d770c5d7",
   "metadata": {
    "ExecuteTime": {
     "end_time": "2024-01-17T11:14:04.758690Z",
     "start_time": "2024-01-17T11:14:02.116355Z"
    },
    "collapsed": false,
    "jupyter": {
     "outputs_hidden": false
    }
   },
   "outputs": [
    {
     "name": "stdin",
     "output_type": "stream",
     "text": [
      " 1\n",
      " 2\n"
     ]
    },
    {
     "name": "stdout",
     "output_type": "stream",
     "text": [
      "3\n"
     ]
    }
   ],
   "source": [
    "# getAdd2関数の定義\n",
    "def getAdd2(num1, num2):\n",
    "    return num1 + num2 # この結果が返される\n",
    "# getAdd2関数ここまで\n",
    "\n",
    "# ここからスタート\n",
    "a = int(input())\n",
    "b = int(input())\n",
    "print(getAdd2(a, b)) # 関数の呼び出し\n",
    "# aの値がgetAdd2関数のnum1に, bの値がgetAdd2関数のnum2に代⼊される"
   ]
  },
  {
   "cell_type": "code",
   "execution_count": 56,
   "id": "56224c5f724ac006",
   "metadata": {
    "ExecuteTime": {
     "end_time": "2024-01-17T11:26:03.899961Z",
     "start_time": "2024-01-17T11:26:03.884315Z"
    },
    "collapsed": false,
    "jupyter": {
     "outputs_hidden": false
    }
   },
   "outputs": [
    {
     "name": "stdout",
     "output_type": "stream",
     "text": [
      "-1\n",
      "0\n",
      "3\n"
     ]
    }
   ],
   "source": [
    "# 二次関数 y = x^2 - 2xの定義\n",
    "def f(x):\n",
    "    y = x ** 2 - 2 * x\n",
    "    return y\n",
    "\n",
    "# 関数の呼び出し\n",
    "print(f(1))\n",
    "print(f(2))\n",
    "print(f(3))"
   ]
  },
  {
   "cell_type": "code",
   "execution_count": 57,
   "id": "9a4d5a8042a40f6a",
   "metadata": {
    "ExecuteTime": {
     "end_time": "2024-01-17T11:28:28.178557Z",
     "start_time": "2024-01-17T11:28:28.171135Z"
    },
    "collapsed": false,
    "jupyter": {
     "outputs_hidden": false
    }
   },
   "outputs": [
    {
     "name": "stdout",
     "output_type": "stream",
     "text": [
      "ABCD\n"
     ]
    }
   ],
   "source": [
    "# 文字列の先頭n文字を取得する関数を定義\n",
    "# s: 対象文字列\n",
    "# n: 先頭の文字数\n",
    "def head(s, n):\n",
    "    r = s[0:n]\n",
    "    return r\n",
    "\n",
    "# 関数の呼び出し\n",
    "s1 = 'ABCDEFG'\n",
    "n1 = 4\n",
    "\n",
    "h1 = head(s1, n1)\n",
    "print(h1)"
   ]
  },
  {
   "cell_type": "code",
   "execution_count": 58,
   "id": "2bdcffe66dbc0360",
   "metadata": {
    "ExecuteTime": {
     "end_time": "2024-01-17T11:49:02.207573Z",
     "start_time": "2024-01-17T11:49:02.197329Z"
    },
    "collapsed": false,
    "jupyter": {
     "outputs_hidden": false
    }
   },
   "outputs": [
    {
     "name": "stdout",
     "output_type": "stream",
     "text": [
      "@の前: abc\n",
      "@の後: xyz.co.jp\n"
     ]
    }
   ],
   "source": [
    "# 応用例: 戻り値を2つ返す例\n",
    "# メールアドレスの@の前後を求める\n",
    "\n",
    "def div(s):\n",
    "    p = s.find('@')  # @の場所を求める\n",
    "    pre = s[:p]      # @の前を求める\n",
    "    post = s[p+1:]   # @の後を求める\n",
    "    return pre, post # コンマ区切りで複数を戻り値にする\n",
    "\n",
    "\n",
    "s1 = 'abc@xyz.co.jp'\n",
    "p1, p2 = div(s1) # 複数を受け取るようにする\n",
    "\n",
    "print('@の前:', p1)\n",
    "print('@の後:', p2)"
   ]
  },
  {
   "cell_type": "code",
   "execution_count": 59,
   "id": "9ab2053a0a907da",
   "metadata": {
    "ExecuteTime": {
     "end_time": "2024-01-17T11:51:30.102180Z",
     "start_time": "2024-01-17T11:51:30.092798Z"
    },
    "collapsed": false,
    "jupyter": {
     "outputs_hidden": false
    }
   },
   "outputs": [
    {
     "name": "stdout",
     "output_type": "stream",
     "text": [
      "型: <class 'str'>\n",
      "値: ABC123\n"
     ]
    }
   ],
   "source": [
    "# 応用例: 関数内で「型」と「値」を表示する\n",
    "def print_type_value(x):\n",
    "    print('型:', type(x))\n",
    "    print('値:', x)\n",
    "    # 戻り値無し\n",
    "    \n",
    "\n",
    "# 関数の呼び出し\n",
    "s1 = 'ABC123'\n",
    "print_type_value(s1)"
   ]
  },
  {
   "cell_type": "code",
   "execution_count": 60,
   "id": "5bef7c5c1f2a75ea",
   "metadata": {
    "ExecuteTime": {
     "end_time": "2024-01-17T12:07:55.586019Z",
     "start_time": "2024-01-17T12:07:55.576122Z"
    },
    "collapsed": false,
    "jupyter": {
     "outputs_hidden": false
    }
   },
   "outputs": [
    {
     "name": "stdout",
     "output_type": "stream",
     "text": [
      "[(0, 'サ'), (1, 'ン'), (2, 'プ'), (3, 'ル'), (4, '文'), (5, '字'), (6, '列')]\n"
     ]
    }
   ],
   "source": [
    "# 応用例\n",
    "# enumerate関数: インデックスと値のタプルを要素としたリストを返す\n",
    "s1 = 'サンプル文字列'\n",
    "print(list(enumerate(s1))) # リスト化しないと中身が表示されない"
   ]
  },
  {
   "cell_type": "code",
   "execution_count": 61,
   "id": "1243b4a39f431654",
   "metadata": {
    "ExecuteTime": {
     "end_time": "2024-01-17T12:09:40.306250Z",
     "start_time": "2024-01-17T12:09:40.298025Z"
    },
    "collapsed": false,
    "jupyter": {
     "outputs_hidden": false
    }
   },
   "outputs": [
    {
     "name": "stdout",
     "output_type": "stream",
     "text": [
      "1 番目の文字は サ です\n",
      "2 番目の文字は ン です\n",
      "3 番目の文字は プ です\n",
      "4 番目の文字は ル です\n",
      "5 番目の文字は 文 です\n",
      "6 番目の文字は 字 です\n",
      "7 番目の文字は 列 です\n"
     ]
    }
   ],
   "source": [
    "# 応用例\n",
    "s1 = 'サンプル文字列'\n",
    "\n",
    "# iがインデックス，sが文字\n",
    "for i, s in enumerate(s1):\n",
    "    print(i+1, '番目の文字は', s, 'です')"
   ]
  },
  {
   "cell_type": "markdown",
   "id": "d201dbfc2136a58c",
   "metadata": {
    "collapsed": false,
    "jupyter": {
     "outputs_hidden": false
    }
   },
   "source": [
    "### 内包表記\n",
    "- リスト形式のデータを対象に，各要素に対して共通の処理をして，結果をリストで得る\n",
    "    - データ分析ではよく使用される "
   ]
  },
  {
   "cell_type": "code",
   "execution_count": 62,
   "id": "39aa01c943830ebd",
   "metadata": {
    "ExecuteTime": {
     "end_time": "2024-01-17T12:12:45.460382Z",
     "start_time": "2024-01-17T12:12:45.452599Z"
    },
    "collapsed": false,
    "jupyter": {
     "outputs_hidden": false
    }
   },
   "outputs": [
    {
     "name": "stdout",
     "output_type": "stream",
     "text": [
      "['B', 'C', 'G']\n"
     ]
    }
   ],
   "source": [
    "# データ\n",
    "cabins = ['B5', 'C22', 'G6']\n",
    "\n",
    "# 内包表記を用いて，新しいリスト data を作る\n",
    "# 今回の場合は，各要素の最初の文字だけを格納しているリストを作成する\n",
    "data = [x[0] for x in cabins]\n",
    "\n",
    "# cabin: 処理対象のリスト\n",
    "# x:     リスト内の各要素をどのような変数名で表現するか\n",
    "# x[0]:  新しく作るリスト内では元の各要素をどのように加工するか（この場合は，最初の文字を示す）\n",
    "\n",
    "# dataの表示\n",
    "print(data)"
   ]
  },
  {
   "cell_type": "code",
   "execution_count": 63,
   "id": "572acf5875066805",
   "metadata": {
    "ExecuteTime": {
     "end_time": "2024-01-17T12:16:23.189664Z",
     "start_time": "2024-01-17T12:16:23.182294Z"
    },
    "collapsed": false,
    "jupyter": {
     "outputs_hidden": false
    }
   },
   "outputs": [
    {
     "name": "stdout",
     "output_type": "stream",
     "text": [
      "[2, 3, 2]\n"
     ]
    }
   ],
   "source": [
    "# データ\n",
    "cabins = ['B5', 'C22', 'G6']\n",
    "\n",
    "# 内包表記を用いて，新しいリスト data2 を作る\n",
    "# 今回の場合は，各要素の文字数を格納しているリストを作成する\n",
    "\n",
    "data2 = [len(x) for x in cabins]\n",
    "\n",
    "# data2の表示\n",
    "print(data2)"
   ]
  },
  {
   "cell_type": "code",
   "execution_count": 64,
   "id": "795b3293e0d354da",
   "metadata": {
    "ExecuteTime": {
     "end_time": "2024-01-17T12:18:53.956609Z",
     "start_time": "2024-01-17T12:18:53.944607Z"
    },
    "collapsed": false,
    "jupyter": {
     "outputs_hidden": false
    }
   },
   "outputs": [
    {
     "name": "stdout",
     "output_type": "stream",
     "text": [
      "[0, 0, 0, 0, 0, 0, 0, 0, 0, 0]\n",
      "[9, 9, 9, 9, 9, 9, 9, 9, 9, 9, 9, 9, 9, 9, 9, 9, 9, 9, 9, 9, 9, 9, 9, 9, 9, 9, 9, 9, 9, 9, 9, 9, 9, 9, 9, 9, 9, 9, 9, 9, 9, 9, 9, 9, 9, 9, 9, 9, 9, 9, 9, 9, 9, 9, 9, 9, 9, 9, 9, 9, 9, 9, 9, 9, 9, 9, 9, 9, 9, 9, 9, 9, 9, 9, 9, 9, 9, 9, 9, 9, 9, 9, 9, 9, 9, 9, 9, 9, 9, 9, 9, 9, 9, 9, 9, 9, 9, 9, 9, 9]\n"
     ]
    }
   ],
   "source": [
    "# 応用例 リストの初期化\n",
    "# 要素数nのリストをすべてxで初期化したい場合: [x] * n で初期化できる\n",
    "\n",
    "x = [0] * 10 # 要素数10，すべて0で初期化\n",
    "print(x)\n",
    "\n",
    "y = [9] * 100 # 要素数100，すべて9で初期化\n",
    "print(y)"
   ]
  },
  {
   "cell_type": "markdown",
   "id": "791978b4721905f2",
   "metadata": {
    "collapsed": false,
    "jupyter": {
     "outputs_hidden": false
    }
   },
   "source": [
    "### 演習問題\n",
    "1. 以下の指示に従ったプログラムを作成しなさい\n",
    "    - 変数aに5を代入，変数bに13を代入する\n",
    "    - 変数cに「b - a」の計算結果を代入する\n",
    "    - printを利用して，変数a，b, cの中身を1行ずつで表示する\n",
    "2. 以下の指示に従ったプログラムを作成しなさい\n",
    "    - 変数aに100を代入，変数bに200を代入，変数cに300を代入する\n",
    "    - 3つの変数に対し，7で割った余りを表示しなさい\n",
    "    - 「3つの変数に対し，7で割った余り」をすべて足した結果を変数dに代入し，表示する\n",
    "3. 以下の指示に従ったプログラムを作成しなさい\n",
    "    - 変数xに12を代入する\n",
    "    - 「変数xが10以上かつxは3で割り切れる」かどうかを判断する条件分岐を行うプログラムを作成する（条件に応じて出力内容を以下にする）\n",
    "        - 条件を満たしている場合: Success と出力\n",
    "        - 条件を満たしていない場合: Fail  と出力\n",
    "4. 以下の指示に従ったプログラムを作成しなさい\n",
    "    - 変数s1に 'I like an apple.'，変数s2に 'apple'を代入\n",
    "    - findメソッド，論理式，条件分岐を使って，変数s1の中に変数s2が含まれているかどうかを調べるプログラムを作成する（条件に応じて出力内容を以下にする）\n",
    "        - 含まれている場合: 変数s1は変数s2を含んでいる\n",
    "        - 含んでいない場合: 変数s1は変数s2を含んでいません\n",
    "5. 以下の指示に従ったプログラムを作成しなさい\n",
    "    - 変数s1に 'サンプル文字列' を代入\n",
    "    - 繰り返し処理を使用して，以下の出力を行うプログラムを作成しなさい\n",
    "```\n",
    "1 番目の文字は サ\n",
    "2 番目の文字は ン\n",
    "3 番目の文字は プ\n",
    "4 番目の文字は ル\n",
    "5 番目の文字は 文\n",
    "6 番目の文字は 字\n",
    "7 番目の文字は 列\n",
    "```\n",
    "\n",
    "6. 以下の表から，商品ごとの売上数集計結果を出力してください\n",
    "\n",
    "| 商品コード | 販売数 |\n",
    "|-------|-----|\n",
    "| T254  | 12  |\n",
    "| A727  | 6   |\n",
    "| T256  | 4   |\n",
    "| T254  | 10  |\n",
    "| A726  | 7   |\n",
    "| A727  | 4   |\n",
    "\n",
    "- 出力結果は以下のようにすること\n",
    "```\n",
    "{'T254': 22, 'A727': 10, 'T256': 4, 'A726': 7}\n",
    "```\n",
    "\n",
    "- プログラムは以下のひな形から追記して完成させなさい\n",
    "```python\n",
    "# 読み込みデータの初期設定\n",
    "data = [\n",
    "    ('T254', 12),\n",
    "    ('A727', 6),\n",
    "    ('T256', 4),\n",
    "    ('T254', 10),\n",
    "    ('A726', 7),\n",
    "    ('A727', 4),\n",
    "]\n",
    "\n",
    "# 辞書: 最初は空\n",
    "dic = {}\n",
    "\n",
    "# 題意を満たすプログラムを完成させなさい\n",
    "```\n",
    "\n",
    "7. 自然数numを引数にとり，Hello をnum回出力する関数を作成せよ\n",
    "    - 関数名: print_Hello(num)\n",
    "\n",
    "8. 身長と体重を引数にとり，BMIの値を返す関数を作成せよ\n",
    "    - 関数名: calc_BMI(height, weight)\n",
    "    - 引数リストのheightは身長（単位: メートル）の値，weightは体重（単位: キログラム）の値を示す\n",
    "    - \n",
    "\n",
    "9. 『章番号:章タイトル』の書式の文字列を引数とし，「:」によって文字列を章番号と章タイトルに分ける関数div_chapterを定義し，文字列『章番号:章タイトル』に対して実行してください\n",
    "\n",
    "\n",
    "10. 9で定義した関数を用いて，以下の文字列に対して分割し，分割した章番号をキー，章タイトルを値とする辞書変数title_dictに登録してください\n",
    "```\n",
    "'1章:業務と機械学習のプロジェクト'\n",
    "'2章:機械学習モデルの処理パターン'\n",
    "'3章:機械学習モデルの開発手順'\n",
    "```\n",
    "- プログラムは以下のひな形から追記して完成させなさい\n",
    "```python\n",
    "# 9で定義した関数div_chapterを書く\n",
    "\n",
    "\n",
    "# 空の辞書の定義\n",
    "title_dict = {}\n",
    "\n",
    "# 処理対象テキストのリスト\n",
    "title_list = [\n",
    "    '1章:業務と機械学習のプロジェクト',\n",
    "    '2章:機械学習モデルの処理パターン',\n",
    "    '3章:機械学習モデルの開発手順'\n",
    "]\n",
    "\n",
    "# 以下処理を書く\n",
    "```"
   ]
  },
  {
   "cell_type": "code",
   "execution_count": null,
   "id": "347c5f30d00ad3c",
   "metadata": {
    "collapsed": false,
    "jupyter": {
     "outputs_hidden": false
    }
   },
   "outputs": [],
   "source": []
  }
 ],
 "metadata": {
  "kernelspec": {
   "display_name": "Python 3 (ipykernel)",
   "language": "python",
   "name": "python3"
  },
  "language_info": {
   "codemirror_mode": {
    "name": "ipython",
    "version": 3
   },
   "file_extension": ".py",
   "mimetype": "text/x-python",
   "name": "python",
   "nbconvert_exporter": "python",
   "pygments_lexer": "ipython3",
   "version": "3.12.1"
  }
 },
 "nbformat": 4,
 "nbformat_minor": 5
}
