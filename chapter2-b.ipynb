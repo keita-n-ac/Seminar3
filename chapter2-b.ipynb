{
 "cells": [
  {
   "cell_type": "code",
   "id": "initial_id",
   "metadata": {
    "collapsed": true,
    "ExecuteTime": {
     "end_time": "2024-05-15T12:19:30.389539Z",
     "start_time": "2024-05-15T12:19:30.135927Z"
    }
   },
   "source": [
    "import pandas as pd\n",
    "from IPython.display import display"
   ],
   "outputs": [],
   "execution_count": 1
  },
  {
   "metadata": {
    "ExecuteTime": {
     "end_time": "2024-05-15T12:19:30.862012Z",
     "start_time": "2024-05-15T12:19:30.859226Z"
    }
   },
   "cell_type": "code",
   "source": [
    "# データを小数点以下4桁で固定\n",
    "pd.options.display.float_format = '{:.4f}'.format\n",
    "# データを省略せずに表示\n",
    "pd.set_option('display.max_columns', None)"
   ],
   "id": "7162c2f2f695472d",
   "outputs": [],
   "execution_count": 2
  },
  {
   "metadata": {
    "ExecuteTime": {
     "end_time": "2024-05-15T12:19:31.252982Z",
     "start_time": "2024-05-15T12:19:31.250905Z"
    }
   },
   "cell_type": "code",
   "source": [
    "# 2重リストの場合（復習）\n",
    "data1 = [\n",
    "    ['田中優花', '女', 140, 40.5],\n",
    "    ['佐藤和也', '男', 175, 70.2],\n",
    "    ['鈴木一郎', '男', 170, 65.0],\n",
    "    ['高橋美香', '女', 158, 55.6],    \n",
    "]\n",
    "\n",
    "print(data1)"
   ],
   "id": "6efcd44939ec2449",
   "outputs": [
    {
     "name": "stdout",
     "output_type": "stream",
     "text": [
      "[['田中優花', '女', 140, 40.5], ['佐藤和也', '男', 175, 70.2], ['鈴木一郎', '男', 170, 65.0], ['高橋美香', '女', 158, 55.6]]\n"
     ]
    }
   ],
   "execution_count": 3
  },
  {
   "metadata": {
    "ExecuteTime": {
     "end_time": "2024-05-15T12:19:31.659447Z",
     "start_time": "2024-05-15T12:19:31.652952Z"
    }
   },
   "cell_type": "code",
   "source": [
    "# 2重リストとカラムを使ってデータフレームを定義\n",
    "df1 = pd.DataFrame(data1, columns=['氏名', '性別', '身長', '体重'])\n",
    "\n",
    "print(type(df1))\n",
    "print()\n",
    "\n",
    "display(df1)"
   ],
   "id": "c2e4f3ef3be7b82b",
   "outputs": [
    {
     "name": "stdout",
     "output_type": "stream",
     "text": [
      "<class 'pandas.core.frame.DataFrame'>\n",
      "\n"
     ]
    },
    {
     "data": {
      "text/plain": [
       "     氏名 性別   身長      体重\n",
       "0  田中優花  女  140 40.5000\n",
       "1  佐藤和也  男  175 70.2000\n",
       "2  鈴木一郎  男  170 65.0000\n",
       "3  高橋美香  女  158 55.6000"
      ],
      "text/html": [
       "<div>\n",
       "<style scoped>\n",
       "    .dataframe tbody tr th:only-of-type {\n",
       "        vertical-align: middle;\n",
       "    }\n",
       "\n",
       "    .dataframe tbody tr th {\n",
       "        vertical-align: top;\n",
       "    }\n",
       "\n",
       "    .dataframe thead th {\n",
       "        text-align: right;\n",
       "    }\n",
       "</style>\n",
       "<table border=\"1\" class=\"dataframe\">\n",
       "  <thead>\n",
       "    <tr style=\"text-align: right;\">\n",
       "      <th></th>\n",
       "      <th>氏名</th>\n",
       "      <th>性別</th>\n",
       "      <th>身長</th>\n",
       "      <th>体重</th>\n",
       "    </tr>\n",
       "  </thead>\n",
       "  <tbody>\n",
       "    <tr>\n",
       "      <th>0</th>\n",
       "      <td>田中優花</td>\n",
       "      <td>女</td>\n",
       "      <td>140</td>\n",
       "      <td>40.5000</td>\n",
       "    </tr>\n",
       "    <tr>\n",
       "      <th>1</th>\n",
       "      <td>佐藤和也</td>\n",
       "      <td>男</td>\n",
       "      <td>175</td>\n",
       "      <td>70.2000</td>\n",
       "    </tr>\n",
       "    <tr>\n",
       "      <th>2</th>\n",
       "      <td>鈴木一郎</td>\n",
       "      <td>男</td>\n",
       "      <td>170</td>\n",
       "      <td>65.0000</td>\n",
       "    </tr>\n",
       "    <tr>\n",
       "      <th>3</th>\n",
       "      <td>高橋美香</td>\n",
       "      <td>女</td>\n",
       "      <td>158</td>\n",
       "      <td>55.6000</td>\n",
       "    </tr>\n",
       "  </tbody>\n",
       "</table>\n",
       "</div>"
      ]
     },
     "metadata": {},
     "output_type": "display_data"
    }
   ],
   "execution_count": 4
  },
  {
   "metadata": {
    "ExecuteTime": {
     "end_time": "2024-05-15T12:19:32.041853Z",
     "start_time": "2024-05-15T12:19:32.039522Z"
    }
   },
   "cell_type": "code",
   "source": [
    "# データフレームの構成物を表示する\n",
    "print('列インデックス', list(df1.columns))\n",
    "print()\n",
    "\n",
    "print('行インデックス', list(df1.index))\n",
    "print()\n",
    "\n",
    "# データの値\n",
    "print('データの中身')\n",
    "print(df1.values)"
   ],
   "id": "a2946160f4cefcf3",
   "outputs": [
    {
     "name": "stdout",
     "output_type": "stream",
     "text": [
      "列インデックス ['氏名', '性別', '身長', '体重']\n",
      "\n",
      "行インデックス [0, 1, 2, 3]\n",
      "\n",
      "データの中身\n",
      "[['田中優花' '女' 140 40.5]\n",
      " ['佐藤和也' '男' 175 70.2]\n",
      " ['鈴木一郎' '男' 170 65.0]\n",
      " ['高橋美香' '女' 158 55.6]]\n"
     ]
    }
   ],
   "execution_count": 5
  },
  {
   "metadata": {},
   "cell_type": "markdown",
   "source": [
    "### CSVファイル\n",
    "- CSVとはコンマ区切りのファイルのこと\n",
    "    - 1行目はカラムがコンマ区切り\n",
    "    - 2行目以降は，1行ごとにコンマ区切りにデータが格納されている．\n",
    "- 例: https://github.com/keita-n-ac/Seminar3/blob/main/df-sample.csv?plain=1\n",
    "```\n",
    "氏名,性別,身長,体重\n",
    "田中優花,女,140,40.5\n",
    "佐藤和也,男,175,70.2\n",
    "鈴木一郎,男,170,65.0\n",
    "高橋美香,女,158,55.6\n",
    "```\n",
    "- 1行目がカラム\n",
    "- 2行目以降がデータ"
   ],
   "id": "c09778017d79125c"
  },
  {
   "metadata": {
    "ExecuteTime": {
     "end_time": "2024-05-15T12:19:32.772037Z",
     "start_time": "2024-05-15T12:19:32.767094Z"
    }
   },
   "cell_type": "code",
   "source": [
    "# このプログラムは，df-sample.csvをgoogle colabにないと利用できない\n",
    "# csvファイルからデータフレームを作成する\n",
    "csv_fn = 'df-sample.csv'\n",
    "df2 = pd.read_csv(csv_fn) # CSVを読み込む\n",
    "display(df2)"
   ],
   "id": "82b3bf466dc5bc74",
   "outputs": [
    {
     "data": {
      "text/plain": [
       "     氏名 性別   身長      体重\n",
       "0  田中優花  女  140 40.5000\n",
       "1  佐藤和也  男  175 70.2000\n",
       "2  鈴木一郎  男  170 65.0000\n",
       "3  高橋美香  女  158 55.6000"
      ],
      "text/html": [
       "<div>\n",
       "<style scoped>\n",
       "    .dataframe tbody tr th:only-of-type {\n",
       "        vertical-align: middle;\n",
       "    }\n",
       "\n",
       "    .dataframe tbody tr th {\n",
       "        vertical-align: top;\n",
       "    }\n",
       "\n",
       "    .dataframe thead th {\n",
       "        text-align: right;\n",
       "    }\n",
       "</style>\n",
       "<table border=\"1\" class=\"dataframe\">\n",
       "  <thead>\n",
       "    <tr style=\"text-align: right;\">\n",
       "      <th></th>\n",
       "      <th>氏名</th>\n",
       "      <th>性別</th>\n",
       "      <th>身長</th>\n",
       "      <th>体重</th>\n",
       "    </tr>\n",
       "  </thead>\n",
       "  <tbody>\n",
       "    <tr>\n",
       "      <th>0</th>\n",
       "      <td>田中優花</td>\n",
       "      <td>女</td>\n",
       "      <td>140</td>\n",
       "      <td>40.5000</td>\n",
       "    </tr>\n",
       "    <tr>\n",
       "      <th>1</th>\n",
       "      <td>佐藤和也</td>\n",
       "      <td>男</td>\n",
       "      <td>175</td>\n",
       "      <td>70.2000</td>\n",
       "    </tr>\n",
       "    <tr>\n",
       "      <th>2</th>\n",
       "      <td>鈴木一郎</td>\n",
       "      <td>男</td>\n",
       "      <td>170</td>\n",
       "      <td>65.0000</td>\n",
       "    </tr>\n",
       "    <tr>\n",
       "      <th>3</th>\n",
       "      <td>高橋美香</td>\n",
       "      <td>女</td>\n",
       "      <td>158</td>\n",
       "      <td>55.6000</td>\n",
       "    </tr>\n",
       "  </tbody>\n",
       "</table>\n",
       "</div>"
      ]
     },
     "metadata": {},
     "output_type": "display_data"
    }
   ],
   "execution_count": 6
  },
  {
   "metadata": {
    "ExecuteTime": {
     "end_time": "2024-05-15T12:19:33.770415Z",
     "start_time": "2024-05-15T12:19:33.183229Z"
    }
   },
   "cell_type": "code",
   "source": [
    "# インターネットにあるcsvファイルからデータフレームを作成する\n",
    "csv_url = 'https://raw.githubusercontent.com/keita-n-ac/Seminar3/main/df-sample.csv'\n",
    "df3 = pd.read_csv(csv_url) # CSVを読み込む\n",
    "display(df3)"
   ],
   "id": "c4b1e235d60e70c5",
   "outputs": [
    {
     "data": {
      "text/plain": [
       "     氏名 性別   身長      体重\n",
       "0  田中優花  女  140 40.5000\n",
       "1  佐藤和也  男  175 70.2000\n",
       "2  鈴木一郎  男  170 65.0000\n",
       "3  高橋美香  女  158 55.6000"
      ],
      "text/html": [
       "<div>\n",
       "<style scoped>\n",
       "    .dataframe tbody tr th:only-of-type {\n",
       "        vertical-align: middle;\n",
       "    }\n",
       "\n",
       "    .dataframe tbody tr th {\n",
       "        vertical-align: top;\n",
       "    }\n",
       "\n",
       "    .dataframe thead th {\n",
       "        text-align: right;\n",
       "    }\n",
       "</style>\n",
       "<table border=\"1\" class=\"dataframe\">\n",
       "  <thead>\n",
       "    <tr style=\"text-align: right;\">\n",
       "      <th></th>\n",
       "      <th>氏名</th>\n",
       "      <th>性別</th>\n",
       "      <th>身長</th>\n",
       "      <th>体重</th>\n",
       "    </tr>\n",
       "  </thead>\n",
       "  <tbody>\n",
       "    <tr>\n",
       "      <th>0</th>\n",
       "      <td>田中優花</td>\n",
       "      <td>女</td>\n",
       "      <td>140</td>\n",
       "      <td>40.5000</td>\n",
       "    </tr>\n",
       "    <tr>\n",
       "      <th>1</th>\n",
       "      <td>佐藤和也</td>\n",
       "      <td>男</td>\n",
       "      <td>175</td>\n",
       "      <td>70.2000</td>\n",
       "    </tr>\n",
       "    <tr>\n",
       "      <th>2</th>\n",
       "      <td>鈴木一郎</td>\n",
       "      <td>男</td>\n",
       "      <td>170</td>\n",
       "      <td>65.0000</td>\n",
       "    </tr>\n",
       "    <tr>\n",
       "      <th>3</th>\n",
       "      <td>高橋美香</td>\n",
       "      <td>女</td>\n",
       "      <td>158</td>\n",
       "      <td>55.6000</td>\n",
       "    </tr>\n",
       "  </tbody>\n",
       "</table>\n",
       "</div>"
      ]
     },
     "metadata": {},
     "output_type": "display_data"
    }
   ],
   "execution_count": 7
  },
  {
   "metadata": {
    "ExecuteTime": {
     "end_time": "2024-05-15T12:19:34.402946Z",
     "start_time": "2024-05-15T12:19:33.771867Z"
    }
   },
   "cell_type": "code",
   "source": [
    "# インターネットにあるexcelファイルからデータフレームを作成する\n",
    "excel_url = 'https://raw.githubusercontent.com/keita-n-ac/Seminar3/main/df-sample.xlsx'\n",
    "df4 = pd.read_excel(excel_url) # excelファイルを読み込む\n",
    "display(df4)"
   ],
   "id": "3c89a1b8060012bc",
   "outputs": [
    {
     "data": {
      "text/plain": [
       "     氏名 性別   身長      体重\n",
       "0  田中優花  女  140 40.5000\n",
       "1  佐藤和也  男  175 70.2000\n",
       "2  鈴木一郎  男  170 65.0000\n",
       "3  高橋美香  女  158 55.6000"
      ],
      "text/html": [
       "<div>\n",
       "<style scoped>\n",
       "    .dataframe tbody tr th:only-of-type {\n",
       "        vertical-align: middle;\n",
       "    }\n",
       "\n",
       "    .dataframe tbody tr th {\n",
       "        vertical-align: top;\n",
       "    }\n",
       "\n",
       "    .dataframe thead th {\n",
       "        text-align: right;\n",
       "    }\n",
       "</style>\n",
       "<table border=\"1\" class=\"dataframe\">\n",
       "  <thead>\n",
       "    <tr style=\"text-align: right;\">\n",
       "      <th></th>\n",
       "      <th>氏名</th>\n",
       "      <th>性別</th>\n",
       "      <th>身長</th>\n",
       "      <th>体重</th>\n",
       "    </tr>\n",
       "  </thead>\n",
       "  <tbody>\n",
       "    <tr>\n",
       "      <th>0</th>\n",
       "      <td>田中優花</td>\n",
       "      <td>女</td>\n",
       "      <td>140</td>\n",
       "      <td>40.5000</td>\n",
       "    </tr>\n",
       "    <tr>\n",
       "      <th>1</th>\n",
       "      <td>佐藤和也</td>\n",
       "      <td>男</td>\n",
       "      <td>175</td>\n",
       "      <td>70.2000</td>\n",
       "    </tr>\n",
       "    <tr>\n",
       "      <th>2</th>\n",
       "      <td>鈴木一郎</td>\n",
       "      <td>男</td>\n",
       "      <td>170</td>\n",
       "      <td>65.0000</td>\n",
       "    </tr>\n",
       "    <tr>\n",
       "      <th>3</th>\n",
       "      <td>高橋美香</td>\n",
       "      <td>女</td>\n",
       "      <td>158</td>\n",
       "      <td>55.6000</td>\n",
       "    </tr>\n",
       "  </tbody>\n",
       "</table>\n",
       "</div>"
      ]
     },
     "metadata": {},
     "output_type": "display_data"
    }
   ],
   "execution_count": 8
  },
  {
   "metadata": {
    "ExecuteTime": {
     "end_time": "2024-05-15T12:19:34.405882Z",
     "start_time": "2024-05-15T12:19:34.403818Z"
    }
   },
   "cell_type": "code",
   "source": [
    "# データシリーズ形式の場合: リストと名前を指定する\n",
    "s1 = pd.Series(\n",
    "    [140, 175, 170, 158],\n",
    "    name='身長')\n",
    "\n",
    "print(type(s1))\n",
    "print(s1)"
   ],
   "id": "4053783f18bb2df2",
   "outputs": [
    {
     "name": "stdout",
     "output_type": "stream",
     "text": [
      "<class 'pandas.core.series.Series'>\n",
      "0    140\n",
      "1    175\n",
      "2    170\n",
      "3    158\n",
      "Name: 身長, dtype: int64\n"
     ]
    }
   ],
   "execution_count": 9
  },
  {
   "metadata": {
    "ExecuteTime": {
     "end_time": "2024-05-15T12:19:34.408653Z",
     "start_time": "2024-05-15T12:19:34.406439Z"
    }
   },
   "cell_type": "code",
   "source": [
    "# データフレームの特定列からデータシリーズにする\n",
    "s2 = df4['身長']\n",
    "\n",
    "print(type(s2))\n",
    "print(s2)"
   ],
   "id": "a67d77ba7bc2fc49",
   "outputs": [
    {
     "name": "stdout",
     "output_type": "stream",
     "text": [
      "<class 'pandas.core.series.Series'>\n",
      "0    140\n",
      "1    175\n",
      "2    170\n",
      "3    158\n",
      "Name: 身長, dtype: int64\n"
     ]
    }
   ],
   "execution_count": 10
  },
  {
   "metadata": {
    "ExecuteTime": {
     "end_time": "2024-05-15T12:19:34.752942Z",
     "start_time": "2024-05-15T12:19:34.748915Z"
    }
   },
   "cell_type": "code",
   "source": [
    "# データフレームの特定行からデータシリーズにする\n",
    "s3 = df4.loc[1]\n",
    "\n",
    "print(type(s3))\n",
    "print(s3)"
   ],
   "id": "325363164f230899",
   "outputs": [
    {
     "name": "stdout",
     "output_type": "stream",
     "text": [
      "<class 'pandas.core.series.Series'>\n",
      "氏名      佐藤和也\n",
      "性別         男\n",
      "身長       175\n",
      "体重   70.2000\n",
      "Name: 1, dtype: object\n"
     ]
    }
   ],
   "execution_count": 11
  },
  {
   "metadata": {
    "ExecuteTime": {
     "end_time": "2024-05-15T12:19:35.122243Z",
     "start_time": "2024-05-15T12:19:35.120086Z"
    }
   },
   "cell_type": "code",
   "source": [
    "# データフレームの各項目のデータ形式を確認\n",
    "print(df4.dtypes)\n",
    "\n",
    "# int64は整数\n",
    "# float64は小数\n",
    "# objectは文字列"
   ],
   "id": "873ec09a91311ccc",
   "outputs": [
    {
     "name": "stdout",
     "output_type": "stream",
     "text": [
      "氏名     object\n",
      "性別     object\n",
      "身長      int64\n",
      "体重    float64\n",
      "dtype: object\n"
     ]
    }
   ],
   "execution_count": 12
  },
  {
   "metadata": {
    "ExecuteTime": {
     "end_time": "2024-05-15T12:19:35.455224Z",
     "start_time": "2024-05-15T12:19:35.451095Z"
    }
   },
   "cell_type": "code",
   "source": [
    "# 列の絞り込み\n",
    "# 抽出したいカラムのリストを用意する\n",
    "cols = ['氏名', '性別']\n",
    "\n",
    "df5 = df4[cols]\n",
    "display(df5)"
   ],
   "id": "4a21d2dd05706e78",
   "outputs": [
    {
     "data": {
      "text/plain": [
       "     氏名 性別\n",
       "0  田中優花  女\n",
       "1  佐藤和也  男\n",
       "2  鈴木一郎  男\n",
       "3  高橋美香  女"
      ],
      "text/html": [
       "<div>\n",
       "<style scoped>\n",
       "    .dataframe tbody tr th:only-of-type {\n",
       "        vertical-align: middle;\n",
       "    }\n",
       "\n",
       "    .dataframe tbody tr th {\n",
       "        vertical-align: top;\n",
       "    }\n",
       "\n",
       "    .dataframe thead th {\n",
       "        text-align: right;\n",
       "    }\n",
       "</style>\n",
       "<table border=\"1\" class=\"dataframe\">\n",
       "  <thead>\n",
       "    <tr style=\"text-align: right;\">\n",
       "      <th></th>\n",
       "      <th>氏名</th>\n",
       "      <th>性別</th>\n",
       "    </tr>\n",
       "  </thead>\n",
       "  <tbody>\n",
       "    <tr>\n",
       "      <th>0</th>\n",
       "      <td>田中優花</td>\n",
       "      <td>女</td>\n",
       "    </tr>\n",
       "    <tr>\n",
       "      <th>1</th>\n",
       "      <td>佐藤和也</td>\n",
       "      <td>男</td>\n",
       "    </tr>\n",
       "    <tr>\n",
       "      <th>2</th>\n",
       "      <td>鈴木一郎</td>\n",
       "      <td>男</td>\n",
       "    </tr>\n",
       "    <tr>\n",
       "      <th>3</th>\n",
       "      <td>高橋美香</td>\n",
       "      <td>女</td>\n",
       "    </tr>\n",
       "  </tbody>\n",
       "</table>\n",
       "</div>"
      ]
     },
     "metadata": {},
     "output_type": "display_data"
    }
   ],
   "execution_count": 13
  },
  {
   "metadata": {
    "ExecuteTime": {
     "end_time": "2024-05-15T12:19:35.784829Z",
     "start_time": "2024-05-15T12:19:35.781633Z"
    }
   },
   "cell_type": "code",
   "source": [
    "# 行の絞り込み\n",
    "# headメソッドを使うことで，先頭から指定した行数を抜き出す\n",
    "display(df4.head(3))"
   ],
   "id": "8194ad6673151385",
   "outputs": [
    {
     "data": {
      "text/plain": [
       "     氏名 性別   身長      体重\n",
       "0  田中優花  女  140 40.5000\n",
       "1  佐藤和也  男  175 70.2000\n",
       "2  鈴木一郎  男  170 65.0000"
      ],
      "text/html": [
       "<div>\n",
       "<style scoped>\n",
       "    .dataframe tbody tr th:only-of-type {\n",
       "        vertical-align: middle;\n",
       "    }\n",
       "\n",
       "    .dataframe tbody tr th {\n",
       "        vertical-align: top;\n",
       "    }\n",
       "\n",
       "    .dataframe thead th {\n",
       "        text-align: right;\n",
       "    }\n",
       "</style>\n",
       "<table border=\"1\" class=\"dataframe\">\n",
       "  <thead>\n",
       "    <tr style=\"text-align: right;\">\n",
       "      <th></th>\n",
       "      <th>氏名</th>\n",
       "      <th>性別</th>\n",
       "      <th>身長</th>\n",
       "      <th>体重</th>\n",
       "    </tr>\n",
       "  </thead>\n",
       "  <tbody>\n",
       "    <tr>\n",
       "      <th>0</th>\n",
       "      <td>田中優花</td>\n",
       "      <td>女</td>\n",
       "      <td>140</td>\n",
       "      <td>40.5000</td>\n",
       "    </tr>\n",
       "    <tr>\n",
       "      <th>1</th>\n",
       "      <td>佐藤和也</td>\n",
       "      <td>男</td>\n",
       "      <td>175</td>\n",
       "      <td>70.2000</td>\n",
       "    </tr>\n",
       "    <tr>\n",
       "      <th>2</th>\n",
       "      <td>鈴木一郎</td>\n",
       "      <td>男</td>\n",
       "      <td>170</td>\n",
       "      <td>65.0000</td>\n",
       "    </tr>\n",
       "  </tbody>\n",
       "</table>\n",
       "</div>"
      ]
     },
     "metadata": {},
     "output_type": "display_data"
    }
   ],
   "execution_count": 14
  },
  {
   "metadata": {
    "ExecuteTime": {
     "end_time": "2024-05-15T12:19:36.119950Z",
     "start_time": "2024-05-15T12:19:36.118007Z"
    }
   },
   "cell_type": "code",
   "source": [
    "# データフレームの中から，条件を満たす行を抽出する\n",
    "# 「性別が男」のカラムの作成\n",
    "index1 = (df4['性別'] == '男')\n",
    "print(index1) # 該当している行をTrue，該当していない行をFalseを出力"
   ],
   "id": "9231d71b56db8515",
   "outputs": [
    {
     "name": "stdout",
     "output_type": "stream",
     "text": [
      "0    False\n",
      "1     True\n",
      "2     True\n",
      "3    False\n",
      "Name: 性別, dtype: bool\n"
     ]
    }
   ],
   "execution_count": 15
  },
  {
   "metadata": {
    "ExecuteTime": {
     "end_time": "2024-05-15T12:19:36.435784Z",
     "start_time": "2024-05-15T12:19:36.429845Z"
    }
   },
   "cell_type": "code",
   "source": [
    "# Trueの行（index1）で行を抜き出す\n",
    "index1 = (df4['性別'] == '男')\n",
    "df6 = df4[index1]\n",
    "display(df6)"
   ],
   "id": "f877d67430aca2b",
   "outputs": [
    {
     "data": {
      "text/plain": [
       "     氏名 性別   身長      体重\n",
       "1  佐藤和也  男  175 70.2000\n",
       "2  鈴木一郎  男  170 65.0000"
      ],
      "text/html": [
       "<div>\n",
       "<style scoped>\n",
       "    .dataframe tbody tr th:only-of-type {\n",
       "        vertical-align: middle;\n",
       "    }\n",
       "\n",
       "    .dataframe tbody tr th {\n",
       "        vertical-align: top;\n",
       "    }\n",
       "\n",
       "    .dataframe thead th {\n",
       "        text-align: right;\n",
       "    }\n",
       "</style>\n",
       "<table border=\"1\" class=\"dataframe\">\n",
       "  <thead>\n",
       "    <tr style=\"text-align: right;\">\n",
       "      <th></th>\n",
       "      <th>氏名</th>\n",
       "      <th>性別</th>\n",
       "      <th>身長</th>\n",
       "      <th>体重</th>\n",
       "    </tr>\n",
       "  </thead>\n",
       "  <tbody>\n",
       "    <tr>\n",
       "      <th>1</th>\n",
       "      <td>佐藤和也</td>\n",
       "      <td>男</td>\n",
       "      <td>175</td>\n",
       "      <td>70.2000</td>\n",
       "    </tr>\n",
       "    <tr>\n",
       "      <th>2</th>\n",
       "      <td>鈴木一郎</td>\n",
       "      <td>男</td>\n",
       "      <td>170</td>\n",
       "      <td>65.0000</td>\n",
       "    </tr>\n",
       "  </tbody>\n",
       "</table>\n",
       "</div>"
      ]
     },
     "metadata": {},
     "output_type": "display_data"
    }
   ],
   "execution_count": 16
  },
  {
   "metadata": {
    "ExecuteTime": {
     "end_time": "2024-05-15T12:19:36.746669Z",
     "start_time": "2024-05-15T12:19:36.741280Z"
    }
   },
   "cell_type": "code",
   "source": [
    "# 1行で抜き出す場合\n",
    "df7 = df4[df4['性別'] == '男']\n",
    "display(df7)"
   ],
   "id": "a674555eb6e96053",
   "outputs": [
    {
     "data": {
      "text/plain": [
       "     氏名 性別   身長      体重\n",
       "1  佐藤和也  男  175 70.2000\n",
       "2  鈴木一郎  男  170 65.0000"
      ],
      "text/html": [
       "<div>\n",
       "<style scoped>\n",
       "    .dataframe tbody tr th:only-of-type {\n",
       "        vertical-align: middle;\n",
       "    }\n",
       "\n",
       "    .dataframe tbody tr th {\n",
       "        vertical-align: top;\n",
       "    }\n",
       "\n",
       "    .dataframe thead th {\n",
       "        text-align: right;\n",
       "    }\n",
       "</style>\n",
       "<table border=\"1\" class=\"dataframe\">\n",
       "  <thead>\n",
       "    <tr style=\"text-align: right;\">\n",
       "      <th></th>\n",
       "      <th>氏名</th>\n",
       "      <th>性別</th>\n",
       "      <th>身長</th>\n",
       "      <th>体重</th>\n",
       "    </tr>\n",
       "  </thead>\n",
       "  <tbody>\n",
       "    <tr>\n",
       "      <th>1</th>\n",
       "      <td>佐藤和也</td>\n",
       "      <td>男</td>\n",
       "      <td>175</td>\n",
       "      <td>70.2000</td>\n",
       "    </tr>\n",
       "    <tr>\n",
       "      <th>2</th>\n",
       "      <td>鈴木一郎</td>\n",
       "      <td>男</td>\n",
       "      <td>170</td>\n",
       "      <td>65.0000</td>\n",
       "    </tr>\n",
       "  </tbody>\n",
       "</table>\n",
       "</div>"
      ]
     },
     "metadata": {},
     "output_type": "display_data"
    }
   ],
   "execution_count": 17
  },
  {
   "metadata": {
    "ExecuteTime": {
     "end_time": "2024-05-15T12:19:37.025240Z",
     "start_time": "2024-05-15T12:19:37.020386Z"
    }
   },
   "cell_type": "code",
   "source": [
    "# データフレームのコピー\n",
    "# copyメソッドを使用する\n",
    "df8 = df4.copy()\n",
    "display(df8)"
   ],
   "id": "b0f3971de65a6f67",
   "outputs": [
    {
     "data": {
      "text/plain": [
       "     氏名 性別   身長      体重\n",
       "0  田中優花  女  140 40.5000\n",
       "1  佐藤和也  男  175 70.2000\n",
       "2  鈴木一郎  男  170 65.0000\n",
       "3  高橋美香  女  158 55.6000"
      ],
      "text/html": [
       "<div>\n",
       "<style scoped>\n",
       "    .dataframe tbody tr th:only-of-type {\n",
       "        vertical-align: middle;\n",
       "    }\n",
       "\n",
       "    .dataframe tbody tr th {\n",
       "        vertical-align: top;\n",
       "    }\n",
       "\n",
       "    .dataframe thead th {\n",
       "        text-align: right;\n",
       "    }\n",
       "</style>\n",
       "<table border=\"1\" class=\"dataframe\">\n",
       "  <thead>\n",
       "    <tr style=\"text-align: right;\">\n",
       "      <th></th>\n",
       "      <th>氏名</th>\n",
       "      <th>性別</th>\n",
       "      <th>身長</th>\n",
       "      <th>体重</th>\n",
       "    </tr>\n",
       "  </thead>\n",
       "  <tbody>\n",
       "    <tr>\n",
       "      <th>0</th>\n",
       "      <td>田中優花</td>\n",
       "      <td>女</td>\n",
       "      <td>140</td>\n",
       "      <td>40.5000</td>\n",
       "    </tr>\n",
       "    <tr>\n",
       "      <th>1</th>\n",
       "      <td>佐藤和也</td>\n",
       "      <td>男</td>\n",
       "      <td>175</td>\n",
       "      <td>70.2000</td>\n",
       "    </tr>\n",
       "    <tr>\n",
       "      <th>2</th>\n",
       "      <td>鈴木一郎</td>\n",
       "      <td>男</td>\n",
       "      <td>170</td>\n",
       "      <td>65.0000</td>\n",
       "    </tr>\n",
       "    <tr>\n",
       "      <th>3</th>\n",
       "      <td>高橋美香</td>\n",
       "      <td>女</td>\n",
       "      <td>158</td>\n",
       "      <td>55.6000</td>\n",
       "    </tr>\n",
       "  </tbody>\n",
       "</table>\n",
       "</div>"
      ]
     },
     "metadata": {},
     "output_type": "display_data"
    }
   ],
   "execution_count": 18
  },
  {
   "metadata": {
    "ExecuteTime": {
     "end_time": "2024-05-15T12:19:37.318311Z",
     "start_time": "2024-05-15T12:19:37.313226Z"
    }
   },
   "cell_type": "code",
   "source": [
    "# データフレームの削除\n",
    "# dropで削除する，axis=0は行，axis=1は列を示す\n",
    "df8 = df8.drop('氏名', axis=1) # 列の「氏名」を削除する\n",
    "display(df8)"
   ],
   "id": "ac9b0fa7410660ee",
   "outputs": [
    {
     "data": {
      "text/plain": [
       "  性別   身長      体重\n",
       "0  女  140 40.5000\n",
       "1  男  175 70.2000\n",
       "2  男  170 65.0000\n",
       "3  女  158 55.6000"
      ],
      "text/html": [
       "<div>\n",
       "<style scoped>\n",
       "    .dataframe tbody tr th:only-of-type {\n",
       "        vertical-align: middle;\n",
       "    }\n",
       "\n",
       "    .dataframe tbody tr th {\n",
       "        vertical-align: top;\n",
       "    }\n",
       "\n",
       "    .dataframe thead th {\n",
       "        text-align: right;\n",
       "    }\n",
       "</style>\n",
       "<table border=\"1\" class=\"dataframe\">\n",
       "  <thead>\n",
       "    <tr style=\"text-align: right;\">\n",
       "      <th></th>\n",
       "      <th>性別</th>\n",
       "      <th>身長</th>\n",
       "      <th>体重</th>\n",
       "    </tr>\n",
       "  </thead>\n",
       "  <tbody>\n",
       "    <tr>\n",
       "      <th>0</th>\n",
       "      <td>女</td>\n",
       "      <td>140</td>\n",
       "      <td>40.5000</td>\n",
       "    </tr>\n",
       "    <tr>\n",
       "      <th>1</th>\n",
       "      <td>男</td>\n",
       "      <td>175</td>\n",
       "      <td>70.2000</td>\n",
       "    </tr>\n",
       "    <tr>\n",
       "      <th>2</th>\n",
       "      <td>男</td>\n",
       "      <td>170</td>\n",
       "      <td>65.0000</td>\n",
       "    </tr>\n",
       "    <tr>\n",
       "      <th>3</th>\n",
       "      <td>女</td>\n",
       "      <td>158</td>\n",
       "      <td>55.6000</td>\n",
       "    </tr>\n",
       "  </tbody>\n",
       "</table>\n",
       "</div>"
      ]
     },
     "metadata": {},
     "output_type": "display_data"
    }
   ],
   "execution_count": 19
  },
  {
   "metadata": {
    "ExecuteTime": {
     "end_time": "2024-05-15T12:19:37.566872Z",
     "start_time": "2024-05-15T12:19:37.563324Z"
    }
   },
   "cell_type": "code",
   "source": [
    "# データフレームに追加\n",
    "bmi = df4['体重'] / (df4['身長'] / 100) ** 2 # BMIを計算\n",
    "print(bmi)"
   ],
   "id": "3e8bf6525dc23c5d",
   "outputs": [
    {
     "name": "stdout",
     "output_type": "stream",
     "text": [
      "0   20.6633\n",
      "1   22.9224\n",
      "2   22.4913\n",
      "3   22.2721\n",
      "dtype: float64\n"
     ]
    }
   ],
   "execution_count": 20
  },
  {
   "metadata": {
    "ExecuteTime": {
     "end_time": "2024-05-15T12:19:37.874459Z",
     "start_time": "2024-05-15T12:19:37.869907Z"
    }
   },
   "cell_type": "code",
   "source": [
    "# bmi（列）を追加\n",
    "df9 = df4.copy()\n",
    "df9['BMI'] = bmi # カラムBMIでbmiを追加する\n",
    "display(df9)\n",
    "# この方法だと最後の列で追加される"
   ],
   "id": "a7ed1ea37414f1ae",
   "outputs": [
    {
     "data": {
      "text/plain": [
       "     氏名 性別   身長      体重     BMI\n",
       "0  田中優花  女  140 40.5000 20.6633\n",
       "1  佐藤和也  男  175 70.2000 22.9224\n",
       "2  鈴木一郎  男  170 65.0000 22.4913\n",
       "3  高橋美香  女  158 55.6000 22.2721"
      ],
      "text/html": [
       "<div>\n",
       "<style scoped>\n",
       "    .dataframe tbody tr th:only-of-type {\n",
       "        vertical-align: middle;\n",
       "    }\n",
       "\n",
       "    .dataframe tbody tr th {\n",
       "        vertical-align: top;\n",
       "    }\n",
       "\n",
       "    .dataframe thead th {\n",
       "        text-align: right;\n",
       "    }\n",
       "</style>\n",
       "<table border=\"1\" class=\"dataframe\">\n",
       "  <thead>\n",
       "    <tr style=\"text-align: right;\">\n",
       "      <th></th>\n",
       "      <th>氏名</th>\n",
       "      <th>性別</th>\n",
       "      <th>身長</th>\n",
       "      <th>体重</th>\n",
       "      <th>BMI</th>\n",
       "    </tr>\n",
       "  </thead>\n",
       "  <tbody>\n",
       "    <tr>\n",
       "      <th>0</th>\n",
       "      <td>田中優花</td>\n",
       "      <td>女</td>\n",
       "      <td>140</td>\n",
       "      <td>40.5000</td>\n",
       "      <td>20.6633</td>\n",
       "    </tr>\n",
       "    <tr>\n",
       "      <th>1</th>\n",
       "      <td>佐藤和也</td>\n",
       "      <td>男</td>\n",
       "      <td>175</td>\n",
       "      <td>70.2000</td>\n",
       "      <td>22.9224</td>\n",
       "    </tr>\n",
       "    <tr>\n",
       "      <th>2</th>\n",
       "      <td>鈴木一郎</td>\n",
       "      <td>男</td>\n",
       "      <td>170</td>\n",
       "      <td>65.0000</td>\n",
       "      <td>22.4913</td>\n",
       "    </tr>\n",
       "    <tr>\n",
       "      <th>3</th>\n",
       "      <td>高橋美香</td>\n",
       "      <td>女</td>\n",
       "      <td>158</td>\n",
       "      <td>55.6000</td>\n",
       "      <td>22.2721</td>\n",
       "    </tr>\n",
       "  </tbody>\n",
       "</table>\n",
       "</div>"
      ]
     },
     "metadata": {},
     "output_type": "display_data"
    }
   ],
   "execution_count": 21
  },
  {
   "metadata": {
    "ExecuteTime": {
     "end_time": "2024-05-15T12:19:38.137592Z",
     "start_time": "2024-05-15T12:19:38.131645Z"
    }
   },
   "cell_type": "code",
   "source": [
    "# bmi（列）をinsertで追加\n",
    "df10 = df4.copy()\n",
    "df10.insert(2, 'BMI', bmi)  # 2列目をカラムBMIでbmiを追加する\n",
    "display(df10)\n",
    "# insertを使うことで指定した列に追加される"
   ],
   "id": "672b630a0c25fc99",
   "outputs": [
    {
     "data": {
      "text/plain": [
       "     氏名 性別     BMI   身長      体重\n",
       "0  田中優花  女 20.6633  140 40.5000\n",
       "1  佐藤和也  男 22.9224  175 70.2000\n",
       "2  鈴木一郎  男 22.4913  170 65.0000\n",
       "3  高橋美香  女 22.2721  158 55.6000"
      ],
      "text/html": [
       "<div>\n",
       "<style scoped>\n",
       "    .dataframe tbody tr th:only-of-type {\n",
       "        vertical-align: middle;\n",
       "    }\n",
       "\n",
       "    .dataframe tbody tr th {\n",
       "        vertical-align: top;\n",
       "    }\n",
       "\n",
       "    .dataframe thead th {\n",
       "        text-align: right;\n",
       "    }\n",
       "</style>\n",
       "<table border=\"1\" class=\"dataframe\">\n",
       "  <thead>\n",
       "    <tr style=\"text-align: right;\">\n",
       "      <th></th>\n",
       "      <th>氏名</th>\n",
       "      <th>性別</th>\n",
       "      <th>BMI</th>\n",
       "      <th>身長</th>\n",
       "      <th>体重</th>\n",
       "    </tr>\n",
       "  </thead>\n",
       "  <tbody>\n",
       "    <tr>\n",
       "      <th>0</th>\n",
       "      <td>田中優花</td>\n",
       "      <td>女</td>\n",
       "      <td>20.6633</td>\n",
       "      <td>140</td>\n",
       "      <td>40.5000</td>\n",
       "    </tr>\n",
       "    <tr>\n",
       "      <th>1</th>\n",
       "      <td>佐藤和也</td>\n",
       "      <td>男</td>\n",
       "      <td>22.9224</td>\n",
       "      <td>175</td>\n",
       "      <td>70.2000</td>\n",
       "    </tr>\n",
       "    <tr>\n",
       "      <th>2</th>\n",
       "      <td>鈴木一郎</td>\n",
       "      <td>男</td>\n",
       "      <td>22.4913</td>\n",
       "      <td>170</td>\n",
       "      <td>65.0000</td>\n",
       "    </tr>\n",
       "    <tr>\n",
       "      <th>3</th>\n",
       "      <td>高橋美香</td>\n",
       "      <td>女</td>\n",
       "      <td>22.2721</td>\n",
       "      <td>158</td>\n",
       "      <td>55.6000</td>\n",
       "    </tr>\n",
       "  </tbody>\n",
       "</table>\n",
       "</div>"
      ]
     },
     "metadata": {},
     "output_type": "display_data"
    }
   ],
   "execution_count": 22
  },
  {
   "metadata": {
    "ExecuteTime": {
     "end_time": "2024-05-15T12:19:38.448575Z",
     "start_time": "2024-05-15T12:19:38.445817Z"
    }
   },
   "cell_type": "code",
   "source": [
    "# データシリーズをデータフレームに結合\n",
    "s5 = pd.Series([10, 25, 45, 34], name='年齢')\n",
    "print(s5)"
   ],
   "id": "a23621d2a6efd4be",
   "outputs": [
    {
     "name": "stdout",
     "output_type": "stream",
     "text": [
      "0    10\n",
      "1    25\n",
      "2    45\n",
      "3    34\n",
      "Name: 年齢, dtype: int64\n"
     ]
    }
   ],
   "execution_count": 23
  },
  {
   "metadata": {
    "ExecuteTime": {
     "end_time": "2024-05-15T12:19:38.728492Z",
     "start_time": "2024-05-15T12:19:38.722102Z"
    }
   },
   "cell_type": "code",
   "source": [
    "# concatメソッドで結合できる\n",
    "df11 = pd.concat([df10, s5], axis=1)\n",
    "display(df11)"
   ],
   "id": "9ed67dfbd4124fbf",
   "outputs": [
    {
     "data": {
      "text/plain": [
       "     氏名 性別     BMI   身長      体重  年齢\n",
       "0  田中優花  女 20.6633  140 40.5000  10\n",
       "1  佐藤和也  男 22.9224  175 70.2000  25\n",
       "2  鈴木一郎  男 22.4913  170 65.0000  45\n",
       "3  高橋美香  女 22.2721  158 55.6000  34"
      ],
      "text/html": [
       "<div>\n",
       "<style scoped>\n",
       "    .dataframe tbody tr th:only-of-type {\n",
       "        vertical-align: middle;\n",
       "    }\n",
       "\n",
       "    .dataframe tbody tr th {\n",
       "        vertical-align: top;\n",
       "    }\n",
       "\n",
       "    .dataframe thead th {\n",
       "        text-align: right;\n",
       "    }\n",
       "</style>\n",
       "<table border=\"1\" class=\"dataframe\">\n",
       "  <thead>\n",
       "    <tr style=\"text-align: right;\">\n",
       "      <th></th>\n",
       "      <th>氏名</th>\n",
       "      <th>性別</th>\n",
       "      <th>BMI</th>\n",
       "      <th>身長</th>\n",
       "      <th>体重</th>\n",
       "      <th>年齢</th>\n",
       "    </tr>\n",
       "  </thead>\n",
       "  <tbody>\n",
       "    <tr>\n",
       "      <th>0</th>\n",
       "      <td>田中優花</td>\n",
       "      <td>女</td>\n",
       "      <td>20.6633</td>\n",
       "      <td>140</td>\n",
       "      <td>40.5000</td>\n",
       "      <td>10</td>\n",
       "    </tr>\n",
       "    <tr>\n",
       "      <th>1</th>\n",
       "      <td>佐藤和也</td>\n",
       "      <td>男</td>\n",
       "      <td>22.9224</td>\n",
       "      <td>175</td>\n",
       "      <td>70.2000</td>\n",
       "      <td>25</td>\n",
       "    </tr>\n",
       "    <tr>\n",
       "      <th>2</th>\n",
       "      <td>鈴木一郎</td>\n",
       "      <td>男</td>\n",
       "      <td>22.4913</td>\n",
       "      <td>170</td>\n",
       "      <td>65.0000</td>\n",
       "      <td>45</td>\n",
       "    </tr>\n",
       "    <tr>\n",
       "      <th>3</th>\n",
       "      <td>高橋美香</td>\n",
       "      <td>女</td>\n",
       "      <td>22.2721</td>\n",
       "      <td>158</td>\n",
       "      <td>55.6000</td>\n",
       "      <td>34</td>\n",
       "    </tr>\n",
       "  </tbody>\n",
       "</table>\n",
       "</div>"
      ]
     },
     "metadata": {},
     "output_type": "display_data"
    }
   ],
   "execution_count": 24
  },
  {
   "metadata": {
    "ExecuteTime": {
     "end_time": "2024-05-15T12:19:39.064215Z",
     "start_time": "2024-05-15T12:19:39.059223Z"
    }
   },
   "cell_type": "code",
   "source": [
    "# 行の追加（新データの追加）df11 = pd.concat([df10, s5], axis=1)\n",
    "# 辞書データとconcatで新データを追加できる\n",
    "new_dict = {'氏名': '山田太郎', '性別': '男', '身長': 165, '体重': 64.2}\n",
    "new_data = pd.DataFrame([new_dict])\n",
    "df12 = pd.concat([df4, new_data], ignore_index=True)\n",
    "# ignore_index=True とすることで，追加した際のインデックスを自動的に修正できる\n",
    "display(df12)"
   ],
   "id": "7e6a1027e06f1c8a",
   "outputs": [
    {
     "data": {
      "text/plain": [
       "     氏名 性別   身長      体重\n",
       "0  田中優花  女  140 40.5000\n",
       "1  佐藤和也  男  175 70.2000\n",
       "2  鈴木一郎  男  170 65.0000\n",
       "3  高橋美香  女  158 55.6000\n",
       "4  山田太郎  男  165 64.2000"
      ],
      "text/html": [
       "<div>\n",
       "<style scoped>\n",
       "    .dataframe tbody tr th:only-of-type {\n",
       "        vertical-align: middle;\n",
       "    }\n",
       "\n",
       "    .dataframe tbody tr th {\n",
       "        vertical-align: top;\n",
       "    }\n",
       "\n",
       "    .dataframe thead th {\n",
       "        text-align: right;\n",
       "    }\n",
       "</style>\n",
       "<table border=\"1\" class=\"dataframe\">\n",
       "  <thead>\n",
       "    <tr style=\"text-align: right;\">\n",
       "      <th></th>\n",
       "      <th>氏名</th>\n",
       "      <th>性別</th>\n",
       "      <th>身長</th>\n",
       "      <th>体重</th>\n",
       "    </tr>\n",
       "  </thead>\n",
       "  <tbody>\n",
       "    <tr>\n",
       "      <th>0</th>\n",
       "      <td>田中優花</td>\n",
       "      <td>女</td>\n",
       "      <td>140</td>\n",
       "      <td>40.5000</td>\n",
       "    </tr>\n",
       "    <tr>\n",
       "      <th>1</th>\n",
       "      <td>佐藤和也</td>\n",
       "      <td>男</td>\n",
       "      <td>175</td>\n",
       "      <td>70.2000</td>\n",
       "    </tr>\n",
       "    <tr>\n",
       "      <th>2</th>\n",
       "      <td>鈴木一郎</td>\n",
       "      <td>男</td>\n",
       "      <td>170</td>\n",
       "      <td>65.0000</td>\n",
       "    </tr>\n",
       "    <tr>\n",
       "      <th>3</th>\n",
       "      <td>高橋美香</td>\n",
       "      <td>女</td>\n",
       "      <td>158</td>\n",
       "      <td>55.6000</td>\n",
       "    </tr>\n",
       "    <tr>\n",
       "      <th>4</th>\n",
       "      <td>山田太郎</td>\n",
       "      <td>男</td>\n",
       "      <td>165</td>\n",
       "      <td>64.2000</td>\n",
       "    </tr>\n",
       "  </tbody>\n",
       "</table>\n",
       "</div>"
      ]
     },
     "metadata": {},
     "output_type": "display_data"
    }
   ],
   "execution_count": 25
  },
  {
   "metadata": {},
   "cell_type": "markdown",
   "source": [
    "### 練習問題\n",
    "1. ```data1```，```data2```，```columns```が以下のように定義されているとき，```data1```に対するデータフレーム```d1```，```data2```に対するデータフレーム```d2```を定義してください．```d1```と```d2```の中身を表示すること．\n",
    "    - ```d1```と```d2```のカラムは```columns```を使用すること．\n",
    "```python\n",
    "data1 = [\n",
    "    ['藤井聡太', '八冠', 307, 21],\n",
    "    ['羽生善治', '九段', 175, 53],\n",
    "]\n",
    "\n",
    "data2 = [\n",
    "    ['伊藤匠', '七段', 324, 21],\n",
    "    ['藤本渚', '五段', 333, 18],\n",
    "]\n",
    "\n",
    "columns = ['名前', '段位', '棋士番号', '年齢']\n",
    "```\n",
    "\n",
    "2. ```df1```と```df2```を連結して，新しいデータフレーム```df3```を作成し，中身を表示すること．"
   ],
   "id": "5d8319acec361818"
  }
 ],
 "metadata": {
  "kernelspec": {
   "display_name": "Python 3",
   "language": "python",
   "name": "python3"
  },
  "language_info": {
   "codemirror_mode": {
    "name": "ipython",
    "version": 2
   },
   "file_extension": ".py",
   "mimetype": "text/x-python",
   "name": "python",
   "nbconvert_exporter": "python",
   "pygments_lexer": "ipython2",
   "version": "2.7.6"
  }
 },
 "nbformat": 4,
 "nbformat_minor": 5
}
